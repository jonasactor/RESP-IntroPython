{
 "cells": [
  {
   "cell_type": "markdown",
   "metadata": {},
   "source": [
    "# Lists\n",
    "\n",
    "We've already seen the **`range()`** function, which iterates through a set of numbers with a fixed pattern. What if your numbers follow an irregular pattern? What if we want to iterate over something other than numbers?\n",
    "\n",
    "Python has multiple ways to iterate over a collection of items.\n",
    "- Lists\n",
    "- Tuples\n",
    "- Dictionaries\n",
    "- Sets\n",
    "\n",
    "This notebook will go over **`lists`**. We will discuss the others in later weeks."
   ]
  },
  {
   "cell_type": "markdown",
   "metadata": {},
   "source": [
    "### Declaring a list\n",
    "\n",
    "If you know your items in advance, you can declare a list as follows:"
   ]
  },
  {
   "cell_type": "code",
   "execution_count": 1,
   "metadata": {},
   "outputs": [
    {
     "name": "stdout",
     "output_type": "stream",
     "text": [
      "[1, 2, 3, 5, 7, 1, 2]\n"
     ]
    }
   ],
   "source": [
    "list_a = [1,2,3,5,7,1,2]\n",
    "print(list_a)"
   ]
  },
  {
   "cell_type": "markdown",
   "metadata": {},
   "source": [
    "Note that lists can repeat elements.\n",
    "\n",
    "Like strings, lists have a length, given by **`len()`**."
   ]
  },
  {
   "cell_type": "code",
   "execution_count": 3,
   "metadata": {},
   "outputs": [
    {
     "name": "stdout",
     "output_type": "stream",
     "text": [
      "7\n"
     ]
    }
   ],
   "source": [
    "print(len(list_a))"
   ]
  },
  {
   "cell_type": "markdown",
   "metadata": {},
   "source": [
    "You can declare an empty list with no items; The empty list has length of 0."
   ]
  },
  {
   "cell_type": "code",
   "execution_count": 4,
   "metadata": {},
   "outputs": [
    {
     "name": "stdout",
     "output_type": "stream",
     "text": [
      "[]\n",
      "0\n"
     ]
    }
   ],
   "source": [
    "list_b = []\n",
    "print(list_b)\n",
    "print(len(list_b))"
   ]
  },
  {
   "cell_type": "markdown",
   "metadata": {},
   "source": [
    "You can create an empty list of a fixed length as follows:"
   ]
  },
  {
   "cell_type": "code",
   "execution_count": 5,
   "metadata": {},
   "outputs": [
    {
     "name": "stdout",
     "output_type": "stream",
     "text": [
      "[None, None, None, None, None, None, None, None]\n"
     ]
    }
   ],
   "source": [
    "list_b = [None]*8\n",
    "print(list_b)"
   ]
  },
  {
   "cell_type": "code",
   "execution_count": 8,
   "metadata": {},
   "outputs": [
    {
     "name": "stdout",
     "output_type": "stream",
     "text": [
      "[True, True, True, True, True, True, True, True]\n",
      "8\n"
     ]
    }
   ],
   "source": [
    "list_True = [True]*8\n",
    "print(list_True)\n",
    "\n",
    "item_True = True*8\n",
    "print(item_True)"
   ]
  },
  {
   "cell_type": "code",
   "execution_count": 7,
   "metadata": {},
   "outputs": [
    {
     "name": "stdout",
     "output_type": "stream",
     "text": [
      "wordwordwordwordwordwordwordword\n"
     ]
    }
   ],
   "source": [
    "w = \"word\"\n",
    "print(w*8)"
   ]
  },
  {
   "cell_type": "markdown",
   "metadata": {},
   "source": [
    "Lists do not have to only contain numbers - they can have items of any type, mixed together, including other lists."
   ]
  },
  {
   "cell_type": "code",
   "execution_count": 2,
   "metadata": {},
   "outputs": [
    {
     "name": "stdout",
     "output_type": "stream",
     "text": [
      "[1, True, 'three', [1, 2, 3, 5, 7, 1, 2]]\n"
     ]
    }
   ],
   "source": [
    "list_c = [1, True, \"three\", list_a]\n",
    "print(list_c)"
   ]
  },
  {
   "cell_type": "markdown",
   "metadata": {},
   "source": [
    "### Accessing items in a list\n",
    "\n",
    "Just like strings, we can access items in a list using slices."
   ]
  },
  {
   "cell_type": "code",
   "execution_count": 11,
   "metadata": {},
   "outputs": [
    {
     "name": "stdout",
     "output_type": "stream",
     "text": [
      "[True, 'three']\n",
      "[[1, 2, 3, 5, 7, 1, 2], 'three']\n"
     ]
    }
   ],
   "source": [
    "print( list_c[1:3])\n",
    "print( list_c[-1:1:-1])"
   ]
  },
  {
   "cell_type": "code",
   "execution_count": 18,
   "metadata": {},
   "outputs": [
    {
     "name": "stdout",
     "output_type": "stream",
     "text": [
      "w\n",
      "o\n",
      "r\n",
      "d\n"
     ]
    }
   ],
   "source": [
    "w = \"word\"\n",
    "\n",
    "def reverse(x):\n",
    "    return x[-1: :-1]\n",
    "\n",
    "def reverse_print(x):\n",
    "    print(x[-1: :-1])\n",
    "\n",
    "for letter in w:\n",
    "    print(letter)"
   ]
  },
  {
   "cell_type": "markdown",
   "metadata": {},
   "source": [
    "### Iterating through a list"
   ]
  },
  {
   "cell_type": "code",
   "execution_count": 19,
   "metadata": {},
   "outputs": [
    {
     "name": "stdout",
     "output_type": "stream",
     "text": [
      "4\n",
      "5\n",
      "6\n",
      "8\n",
      "10\n",
      "4\n",
      "5\n"
     ]
    }
   ],
   "source": [
    "for item in list_a:\n",
    "    print(item+3)"
   ]
  },
  {
   "cell_type": "code",
   "execution_count": 20,
   "metadata": {},
   "outputs": [
    {
     "name": "stdout",
     "output_type": "stream",
     "text": [
      "0 :  w\n",
      "1 :  o\n",
      "2 :  r\n",
      "3 :  d\n"
     ]
    }
   ],
   "source": [
    "for index, letter in enumerate(w):\n",
    "    print(index, \": \", letter)"
   ]
  },
  {
   "cell_type": "code",
   "execution_count": 21,
   "metadata": {},
   "outputs": [
    {
     "name": "stdout",
     "output_type": "stream",
     "text": [
      "0 :  1\n",
      "1 :  True\n",
      "2 :  three\n",
      "3 :  [1, 2, 3, 5, 7, 1, 2]\n"
     ]
    }
   ],
   "source": [
    "for index, item in enumerate(list_c):\n",
    "    print(index, ': ', item)"
   ]
  },
  {
   "cell_type": "markdown",
   "metadata": {},
   "source": [
    "We can also unroll lists with the unrolling operator **`*`**:"
   ]
  },
  {
   "cell_type": "code",
   "execution_count": 9,
   "metadata": {},
   "outputs": [
    {
     "name": "stdout",
     "output_type": "stream",
     "text": [
      "[1, True, 'three', [1, 2, 3, 5, 7, 1, 2]]\n",
      "1 True three [1, 2, 3, 5, 7, 1, 2]\n"
     ]
    }
   ],
   "source": [
    "print(list_c)\n",
    "print(list_c[0], list_c[1], list_c[2], list_c[3])"
   ]
  },
  {
   "cell_type": "code",
   "execution_count": 22,
   "metadata": {},
   "outputs": [
    {
     "name": "stdout",
     "output_type": "stream",
     "text": [
      "[1, True, 'three', [1, 2, 3, 5, 7, 1, 2]]\n",
      "1 True three [1, 2, 3, 5, 7, 1, 2]\n"
     ]
    }
   ],
   "source": [
    "print(list_c)\n",
    "print(*list_c)"
   ]
  },
  {
   "cell_type": "code",
   "execution_count": 24,
   "metadata": {},
   "outputs": [
    {
     "name": "stdout",
     "output_type": "stream",
     "text": [
      "14\n",
      "14\n"
     ]
    }
   ],
   "source": [
    "def silly_function(a,b,c):\n",
    "    return a + 2*b + 3*c\n",
    "\n",
    "print(silly_function(1,2,3))\n",
    "\n",
    "l = [1,2,3]\n",
    "print(silly_function(*l))"
   ]
  },
  {
   "cell_type": "markdown",
   "metadata": {},
   "source": [
    "### Editing items in a list\n",
    "\n",
    "If we have a list, but want to change some items, we can directly assign new values using the **`[]`** operator."
   ]
  },
  {
   "cell_type": "code",
   "execution_count": 25,
   "metadata": {},
   "outputs": [
    {
     "name": "stdout",
     "output_type": "stream",
     "text": [
      "[1, True, 'three', [1, 2, 3, 5, 7, 1, 2]]\n",
      "[1, True, 'threethree', [1, 2, 3, 5, 7, 1, 2]]\n"
     ]
    }
   ],
   "source": [
    "print(list_c)\n",
    "list_c[2] = list_c[2]*2\n",
    "print(list_c)"
   ]
  },
  {
   "cell_type": "code",
   "execution_count": 26,
   "metadata": {},
   "outputs": [
    {
     "name": "stdout",
     "output_type": "stream",
     "text": [
      "[1, True, 'threethreethreethree', [1, 2, 3, 5, 7, 1, 2]]\n"
     ]
    }
   ],
   "source": [
    "y = list_c[2]\n",
    "yy = y*2\n",
    "list_c[2] = yy\n",
    "\n",
    "print(list_c)"
   ]
  },
  {
   "cell_type": "markdown",
   "metadata": {},
   "source": [
    "Sometimes you want to perform some operation (or run a function) on each item in a list."
   ]
  },
  {
   "cell_type": "code",
   "execution_count": 27,
   "metadata": {},
   "outputs": [],
   "source": [
    "def str_duplicate(s):\n",
    "    return s*2"
   ]
  },
  {
   "cell_type": "code",
   "execution_count": 29,
   "metadata": {},
   "outputs": [
    {
     "name": "stdout",
     "output_type": "stream",
     "text": [
      "ww\n",
      "oo\n",
      "rr\n",
      "dd\n"
     ]
    }
   ],
   "source": [
    "for letter in w:\n",
    "    print(str_duplicate(letter))"
   ]
  },
  {
   "cell_type": "code",
   "execution_count": 30,
   "metadata": {},
   "outputs": [],
   "source": [
    "list_of_words         = [\"one\", \"small\", \"step\", \"for\", \"man\"]"
   ]
  },
  {
   "cell_type": "markdown",
   "metadata": {},
   "source": [
    "If we have a list, we can map through the list and perform an action on each element. For each element, we could just return the same element:"
   ]
  },
  {
   "cell_type": "code",
   "execution_count": 31,
   "metadata": {},
   "outputs": [
    {
     "name": "stdout",
     "output_type": "stream",
     "text": [
      "original  ['one', 'small', 'step', 'for', 'man']\n",
      "duplicate ['one', 'small', 'step', 'for', 'man']\n"
     ]
    }
   ],
   "source": [
    "list_of_words_again   = [s for s in list_of_words]\n",
    "\n",
    "print('original ', list_of_words)\n",
    "print('duplicate', list_of_words_again)\n"
   ]
  },
  {
   "cell_type": "markdown",
   "metadata": {},
   "source": [
    "Or, we could map a function onto each element:"
   ]
  },
  {
   "cell_type": "code",
   "execution_count": 32,
   "metadata": {},
   "outputs": [
    {
     "name": "stdout",
     "output_type": "stream",
     "text": [
      "['one', 'small', 'step', 'for', 'man']\n",
      "['oneone', 'smallsmall', 'stepstep', 'forfor', 'manman']\n"
     ]
    }
   ],
   "source": [
    "list_of_words_doubled = [str_duplicate(s) for s in list_of_words]\n",
    "\n",
    "print(list_of_words)\n",
    "print(list_of_words_doubled)"
   ]
  },
  {
   "cell_type": "code",
   "execution_count": 37,
   "metadata": {},
   "outputs": [
    {
     "name": "stdout",
     "output_type": "stream",
     "text": [
      "['o', 's', 's', 'f', 'm']\n",
      "['ne', 'll', 'ep', 'or', 'an']\n"
     ]
    }
   ],
   "source": [
    "# get_first_letter= lambda s : s[0]\n",
    "\n",
    "list_of_first_letters = [ s[0] for s in list_of_words]\n",
    "list_of_second_letters = [ s[1] for s in list_of_words ]\n",
    "list_of_last_two_letters = [ s[-2:] for s in list_of_words ]\n",
    "\n",
    "print(list_of_first_letters)\n",
    "print(list_of_last_two_letters)"
   ]
  },
  {
   "cell_type": "markdown",
   "metadata": {},
   "source": [
    "Sometimes you want to iterate through more than one list at the same time. If we know how many items are in the list, we can **`range`** over the length of the list and create pairs on our own.\n",
    "\n"
   ]
  },
  {
   "cell_type": "code",
   "execution_count": 38,
   "metadata": {},
   "outputs": [],
   "source": [
    "items = [\"apples\", \"bananas\", \"carrots\", \"doughnuts\", \"eggs\"]\n",
    "cost = [0.40, 0.35, 1.12, 1.00, 0.59]"
   ]
  },
  {
   "cell_type": "code",
   "execution_count": 39,
   "metadata": {},
   "outputs": [
    {
     "name": "stdout",
     "output_type": "stream",
     "text": [
      "None\n",
      "None\n",
      "None\n",
      "None\n",
      "None\n"
     ]
    }
   ],
   "source": [
    "store1 = [None]*len(items)\n",
    "for j in range(len(store1)):\n",
    "    print(store1[j])"
   ]
  },
  {
   "cell_type": "code",
   "execution_count": 44,
   "metadata": {},
   "outputs": [
    {
     "name": "stdout",
     "output_type": "stream",
     "text": [
      "[('apples', 0.4), ('bananas', 0.35), ('carrots', 1.12), ('doughnuts', 1.0), ('eggs', 0.59)]\n",
      "<class 'list'>\n"
     ]
    }
   ],
   "source": [
    "store2 = [None]*len(items)\n",
    "for i in range(len(items)):\n",
    "    store2[i] = (items[i], cost[i])\n",
    "    \n",
    "print(store2)\n",
    "print(type(store2))"
   ]
  },
  {
   "cell_type": "markdown",
   "metadata": {},
   "source": [
    "\n",
    "An easier way to do so is via the **`zip()`** function. The **`zip()`** function returns a **`tuple`** of items paired together."
   ]
  },
  {
   "cell_type": "code",
   "execution_count": 42,
   "metadata": {},
   "outputs": [
    {
     "name": "stdout",
     "output_type": "stream",
     "text": [
      "<zip object at 0x7f0c982fee88>\n",
      "<class 'zip'>\n"
     ]
    }
   ],
   "source": [
    "inventory = zip(items, cost)\n",
    "\n",
    "print(inventory)\n",
    "print(type(inventory))"
   ]
  },
  {
   "cell_type": "code",
   "execution_count": 43,
   "metadata": {},
   "outputs": [
    {
     "name": "stdout",
     "output_type": "stream",
     "text": [
      "('apples', 0.4)\n",
      "('bananas', 0.35)\n",
      "('carrots', 1.12)\n",
      "('doughnuts', 1.0)\n",
      "('eggs', 0.59)\n"
     ]
    }
   ],
   "source": [
    "for i in inventory:\n",
    "    print(i)"
   ]
  },
  {
   "cell_type": "markdown",
   "metadata": {},
   "source": [
    "### Appending items to a list"
   ]
  },
  {
   "cell_type": "code",
   "execution_count": 45,
   "metadata": {},
   "outputs": [],
   "source": [
    "items.append('fish')\n",
    "cost.append(3.25)"
   ]
  },
  {
   "cell_type": "code",
   "execution_count": 46,
   "metadata": {},
   "outputs": [
    {
     "name": "stdout",
     "output_type": "stream",
     "text": [
      "apples     \t:   0.4\n",
      "bananas     \t:   0.35\n",
      "carrots     \t:   1.12\n",
      "doughnuts     \t:   1.0\n",
      "eggs     \t:   0.59\n",
      "fish     \t:   3.25\n"
     ]
    }
   ],
   "source": [
    "for pair in zip(items, cost):\n",
    "    print(pair[0], '    \\t:  ', pair[1])"
   ]
  },
  {
   "cell_type": "markdown",
   "metadata": {},
   "source": [
    "### Inserting items into a list"
   ]
  },
  {
   "cell_type": "code",
   "execution_count": 47,
   "metadata": {},
   "outputs": [
    {
     "name": "stdout",
     "output_type": "stream",
     "text": [
      "['apples', 'bananas', 'blueberries', 'carrots', 'doughnuts', 'eggs', 'fish']\n"
     ]
    }
   ],
   "source": [
    "items.insert(2,'blueberries')\n",
    "print(items)"
   ]
  },
  {
   "cell_type": "code",
   "execution_count": 49,
   "metadata": {},
   "outputs": [
    {
     "name": "stdout",
     "output_type": "stream",
     "text": [
      "['apples', 'bananas', 'blueberries', 'carrots', 'zucchini', 'zucchini', 'doughnuts', 'eggs', 'fish']\n",
      "['end', 'apples', 'bananas', 'blueberries', 'carrots', 'zucchini', 'zucchini', 'doughnuts', 'eggs', 'fish']\n"
     ]
    }
   ],
   "source": [
    "items.insert(-3, 'zucchini')\n",
    "print(items)\n",
    "items.insert(-0, 'end')\n",
    "print(items)"
   ]
  },
  {
   "cell_type": "markdown",
   "metadata": {},
   "source": [
    "### Deleting items from a list\n",
    "\n",
    "If you want to remove an element, but don't know where the entry is within the list, use the **`remove()`** function."
   ]
  },
  {
   "cell_type": "code",
   "execution_count": 52,
   "metadata": {},
   "outputs": [],
   "source": [
    "items.remove('zucchini')\n",
    "items.remove('end')"
   ]
  },
  {
   "cell_type": "code",
   "execution_count": 53,
   "metadata": {},
   "outputs": [
    {
     "name": "stdout",
     "output_type": "stream",
     "text": [
      "['end', 'apples', 'bananas', 'blueberries', 'carrots', 'doughnuts', 'eggs', 'fish']\n"
     ]
    }
   ],
   "source": [
    "print(items)"
   ]
  },
  {
   "cell_type": "markdown",
   "metadata": {},
   "source": [
    "Note, you cannot remove an element that is not there."
   ]
  },
  {
   "cell_type": "code",
   "execution_count": 55,
   "metadata": {},
   "outputs": [],
   "source": [
    "items.remove('zucchini') # again\n"
   ]
  },
  {
   "cell_type": "markdown",
   "metadata": {},
   "source": [
    "If you do know the element's location in the list, use the **`pop()`** fuction. This function **`returns`** the removed item."
   ]
  },
  {
   "cell_type": "code",
   "execution_count": 56,
   "metadata": {},
   "outputs": [],
   "source": [
    "i1 = items.pop(1)"
   ]
  },
  {
   "cell_type": "code",
   "execution_count": 57,
   "metadata": {},
   "outputs": [
    {
     "name": "stdout",
     "output_type": "stream",
     "text": [
      "['apples', 'blueberries', 'carrots', 'doughnuts', 'eggs', 'fish']\n",
      "bananas\n"
     ]
    }
   ],
   "source": [
    "print(items)\n",
    "print(i1)"
   ]
  },
  {
   "cell_type": "markdown",
   "metadata": {},
   "source": [
    "## Lists of Lists\n",
    "\n",
    "Since lists do not have a type, you can make lists of lists."
   ]
  },
  {
   "cell_type": "code",
   "execution_count": 58,
   "metadata": {},
   "outputs": [],
   "source": [
    "dry_goods = ['oil', 'vinegar', 'flour', 'cereal', 'pretzels']\n",
    "chocolate_bars = ['Hersheys', 'M&Ms', 'Ghirardelli']\n",
    "household = ['tissues', 'paper towels', 'soap']"
   ]
  },
  {
   "cell_type": "code",
   "execution_count": 59,
   "metadata": {},
   "outputs": [],
   "source": [
    "aisle = [None]*3\n",
    "\n",
    "aisle[0] = items\n",
    "aisle[1] = [dry_goods, chocolate_bars]\n",
    "aisle[2] = household"
   ]
  },
  {
   "cell_type": "code",
   "execution_count": 60,
   "metadata": {},
   "outputs": [
    {
     "name": "stdout",
     "output_type": "stream",
     "text": [
      "Aisle  0  :\t ['apples', 'blueberries', 'carrots', 'doughnuts', 'eggs', 'fish']\n",
      "Aisle  1  :\t [['oil', 'vinegar', 'flour', 'cereal', 'pretzels'], ['Hersheys', 'M&Ms', 'Ghirardelli']]\n",
      "Aisle  2  :\t ['tissues', 'paper towels', 'soap']\n"
     ]
    }
   ],
   "source": [
    "for i,a in enumerate(aisle):\n",
    "    print(\"Aisle \", i, \" :\\t\", a)"
   ]
  },
  {
   "cell_type": "markdown",
   "metadata": {},
   "source": [
    "To access items in a list that's in a list, you need to use the **`[]`** brackets for each list."
   ]
  },
  {
   "cell_type": "code",
   "execution_count": 63,
   "metadata": {},
   "outputs": [
    {
     "name": "stdout",
     "output_type": "stream",
     "text": [
      "apples\n",
      "blueberries\n",
      "carrots\n",
      "doughnuts\n",
      "eggs\n",
      "fish\n",
      "\n",
      "\n",
      "['oil', 'vinegar', 'flour', 'cereal', 'pretzels']\n",
      "['Hersheys', 'M&Ms', 'Ghirardelli']\n",
      "\n",
      "\n",
      "tissues\n",
      "paper towels\n",
      "soap\n",
      "\n",
      "\n",
      "[['oil', 'vinegar', 'flour', 'cereal', 'pretzels'], ['Hersheys', 'M&Ms', 'Ghirardelli']]\n",
      "['Hersheys', 'M&Ms', 'Ghirardelli']\n",
      "Ghirardelli\n"
     ]
    }
   ],
   "source": [
    "for a in aisle:\n",
    "    for b in a:\n",
    "        print(b)\n",
    "    print('\\n')\n",
    "    \n",
    "print(aisle[1])\n",
    "print(aisle[1][1])\n",
    "print(aisle[1][1][2])"
   ]
  },
  {
   "cell_type": "markdown",
   "metadata": {},
   "source": [
    "## Conditionals and Lists\n",
    "\n",
    "You can combine conditional statements and lists when performing operations on each elements. This can be used in a way similar to **`filter()`**."
   ]
  },
  {
   "cell_type": "code",
   "execution_count": 64,
   "metadata": {},
   "outputs": [
    {
     "name": "stdout",
     "output_type": "stream",
     "text": [
      "[('apples', 0.4), ('bananas', 0.35), ('carrots', 1.12), ('doughnuts', 1.0), ('eggs', 0.59)]\n"
     ]
    }
   ],
   "source": [
    "print(store2)"
   ]
  },
  {
   "cell_type": "code",
   "execution_count": 65,
   "metadata": {},
   "outputs": [
    {
     "name": "stdout",
     "output_type": "stream",
     "text": [
      "[('apples', 0.4), ('bananas', 0.35)]\n"
     ]
    }
   ],
   "source": [
    "cheap_store = [pair for pair in store2 if pair[1] < 0.5]\n",
    "print(cheap_store)"
   ]
  },
  {
   "cell_type": "code",
   "execution_count": 66,
   "metadata": {},
   "outputs": [
    {
     "name": "stdout",
     "output_type": "stream",
     "text": [
      "['apples', 'bananas']\n"
     ]
    }
   ],
   "source": [
    "cheap_items = [pair[0] for pair in store2 if pair[1] < 0.5]\n",
    "print(cheap_items)"
   ]
  },
  {
   "cell_type": "code",
   "execution_count": 69,
   "metadata": {},
   "outputs": [
    {
     "name": "stdout",
     "output_type": "stream",
     "text": [
      "['apples', 'blueberries', 'carrots', 'doughnuts', 'eggs']\n"
     ]
    }
   ],
   "source": [
    "plural_items = [item for item in aisle[0] if item[-1]=='s']\n",
    "print(plural_items)"
   ]
  },
  {
   "cell_type": "code",
   "execution_count": 71,
   "metadata": {},
   "outputs": [
    {
     "name": "stdout",
     "output_type": "stream",
     "text": [
      "['a', 'o', 'i', 'e']\n"
     ]
    }
   ],
   "source": [
    "vowels = ['a','e','i','o','u']\n",
    "word = \"favorite\"\n",
    "non_vowels = [ letter for letter in word if letter in vowels ]\n",
    "print(non_vowels)"
   ]
  },
  {
   "cell_type": "code",
   "execution_count": null,
   "metadata": {},
   "outputs": [],
   "source": []
  }
 ],
 "metadata": {
  "kernelspec": {
   "display_name": "Python 3",
   "language": "python",
   "name": "python3"
  },
  "language_info": {
   "codemirror_mode": {
    "name": "ipython",
    "version": 3
   },
   "file_extension": ".py",
   "mimetype": "text/x-python",
   "name": "python",
   "nbconvert_exporter": "python",
   "pygments_lexer": "ipython3",
   "version": "3.7.3"
  }
 },
 "nbformat": 4,
 "nbformat_minor": 2
}
