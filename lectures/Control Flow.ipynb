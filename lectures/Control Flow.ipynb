{
 "cells": [
  {
   "cell_type": "markdown",
   "metadata": {},
   "source": [
    "# Control Flow\n",
    "\n",
    "There are several ways to choose how many times to execute a statement."
   ]
  },
  {
   "cell_type": "markdown",
   "metadata": {},
   "source": [
    "## if, elif, else\n",
    "\n",
<<<<<<< HEAD
    "**`if condition`**:\n",
    "\n",
    "    _execute statements_\n",
    "    \n",
    "**`elif condition`**:\n",
    "\n",
    "    _execute these instead_\n",
    "    \n",
    "**`else`**:\n",
=======
    "if __condition__:\n",
    "\n",
    "    _execute statements_\n",
    "    \n",
    "elif __condition__:\n",
    "\n",
    "    _execute these instead_\n",
    "    \n",
    "else:\n",
>>>>>>> c426bdfc626d17f1586acf7de3abbc2215c93fa0
    "\n",
    "    _execute this code otherwise_"
   ]
  },
  {
   "cell_type": "code",
   "execution_count": 5,
   "metadata": {},
   "outputs": [
    {
     "name": "stdout",
     "output_type": "stream",
     "text": [
      "x is even\n",
      "water is a  liquid  at  32.1  degrees C.\n"
     ]
    }
   ],
   "source": [
    "x = 7\n",
    "temp = 32.1\n",
    "\n",
    "if x//2:\n",
    "    print('x is even')\n",
    "else:\n",
    "    print('x is odd')\n",
    "\n",
    "state = \"\"\n",
    "if temp > 100.0:\n",
    "    state = \"gas\"\n",
    "elif temp > 0.0:\n",
    "    state = \"liquid\"\n",
    "else:\n",
    "    state = \"solid\"\n",
    "print('water is a ', state, ' at ', temp, ' degrees C.')"
   ]
  },
  {
   "cell_type": "markdown",
   "metadata": {},
   "source": [
    "## for loops\n",
    "\n",
    "iterate over a collection of things"
   ]
  },
  {
   "cell_type": "code",
   "execution_count": 10,
   "metadata": {},
   "outputs": [
    {
     "name": "stdout",
     "output_type": "stream",
     "text": [
      "0\n",
      "1\n",
      "-2\n",
      "3\n",
      "6\n",
      "7\n",
      "0 1 -2 -3 -4 -5 -6 -7 -8 -9 "
     ]
    }
   ],
   "source": [
    "for i in [0,1,-2,3,6,7]: # this is a list - we will go into lists in more detail later\n",
    "    print(i)\n",
    "\n",
    "for i in range(10):\n",
    "    if i//2:\n",
    "        print(-i, end=' ')\n",
    "    else:\n",
    "        print(i, end=' ')\n"
   ]
  },
  {
   "cell_type": "markdown",
   "metadata": {},
   "source": [
    "A useful tool for iterating over strings (and other collections) is the __enumerate()__ function:"
   ]
  },
  {
   "cell_type": "code",
   "execution_count": 11,
   "metadata": {},
   "outputs": [
    {
     "name": "stdout",
     "output_type": "stream",
     "text": [
      "0: a\n",
      "1: l\n",
      "2: s\n",
      "3: d\n",
      "4: f\n",
      "5: k\n",
      "6: j\n"
     ]
    }
   ],
   "source": [
    "for i, s in enumerate('alsdfkj'):\n",
    "    print(f'{i}: {s}')"
   ]
  },
  {
   "cell_type": "markdown",
   "metadata": {},
   "source": [
    "**`filter`**: an iterator that only yields values for which a given predicate function evalutes to `True`."
   ]
  },
  {
   "cell_type": "code",
   "execution_count": 12,
   "metadata": {},
   "outputs": [
    {
     "name": "stdout",
     "output_type": "stream",
     "text": [
      "True False \n",
      "\n",
      "0 2 4 6 8 "
     ]
    }
   ],
   "source": [
    "# find values up to 10 for which x % 2 is zero\n",
    "is_even = lambda x: x % 2 == 0\n",
    "print(is_even(4), is_even(7), \"\\n\")\n",
    "\n",
    "for val in filter(is_even, range(10)):\n",
    "    print(val, end=' ')"
   ]
  },
  {
   "cell_type": "markdown",
   "metadata": {},
   "source": [
    "## while\n",
    "Like a **`for`** loop, but without a fixed duration"
   ]
  },
  {
   "cell_type": "code",
   "execution_count": 15,
   "metadata": {},
   "outputs": [
    {
     "name": "stdout",
     "output_type": "stream",
     "text": [
      "10 9 8 7 6 5 4 3 2 1 "
     ]
    }
   ],
   "source": [
    "x = 10\n",
    "while x > 0:\n",
    "    print(x, end=' ')\n",
    "    x -= 1"
   ]
  },
  {
   "cell_type": "code",
   "execution_count": null,
   "metadata": {},
   "outputs": [],
   "source": []
  }
 ],
 "metadata": {
  "kernelspec": {
   "display_name": "Python 3",
   "language": "python",
   "name": "python3"
  },
  "language_info": {
   "codemirror_mode": {
    "name": "ipython",
    "version": 3
   },
   "file_extension": ".py",
   "mimetype": "text/x-python",
   "name": "python",
   "nbconvert_exporter": "python",
   "pygments_lexer": "ipython3",
   "version": "3.7.3"
  }
 },
 "nbformat": 4,
 "nbformat_minor": 2
}
