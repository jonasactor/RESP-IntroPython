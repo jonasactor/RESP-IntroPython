{
 "cells": [
  {
   "cell_type": "markdown",
   "metadata": {},
   "source": [
    "# Commenting Functions\n",
    "\n",
    "Here are several examples that illustrate how to comment functions as to document them. Properly-commented code is crucial for having other people (or yourself!) be able to look up what your code does and how it works, so that they can use it without needing to pester you with questions."
   ]
  },
  {
   "cell_type": "markdown",
   "metadata": {},
   "source": [
    "### Undocumented code\n",
    "\n",
    "_Question: What does this code do? Do you have any questions about what this code does?_"
   ]
  },
  {
   "cell_type": "code",
   "execution_count": null,
   "metadata": {},
   "outputs": [],
   "source": [
    "def read_file_into_lines(fname):\n",
    "    with open(fname) as f:\n",
    "        content = f.readlines()\n",
    "    return content\n"
   ]
  },
  {
   "cell_type": "code",
   "execution_count": null,
   "metadata": {},
   "outputs": [],
   "source": [
    "help(read_file_into_lines)"
   ]
  },
  {
   "cell_type": "markdown",
   "metadata": {},
   "source": [
    "### Somewhat commented code\n",
    "\n",
    "This code describes what it does in a big-picture way, but is not specific enough to be useful. How does the code break up the content?\n",
    "\n",
    "This function definition does a good job in its syntax of describing the input and output of the function. This syntax is optional, and many people do not use this syntax since it is rather new (Python 3.5 and newer), but it makes it clear what are the formats of the input and output of the function."
   ]
  },
  {
   "cell_type": "code",
   "execution_count": null,
   "metadata": {},
   "outputs": [],
   "source": [
    "def read_file_into_lines(fname: str) -> list :\n",
    "    ''' Given a txt file, reads in contents and breaks them up.'''\n",
    "    with open(fname) as f:\n",
    "        content = f.readlines()\n",
    "    return content\n"
   ]
  },
  {
   "cell_type": "code",
   "execution_count": null,
   "metadata": {},
   "outputs": [],
   "source": [
    "help(read_file_into_lines)"
   ]
  },
  {
   "cell_type": "markdown",
   "metadata": {},
   "source": [
    "### Well-commented code\n",
    "\n",
    "_Question: What does this code do, that the above code does not do?_"
   ]
  },
  {
   "cell_type": "code",
   "execution_count": null,
   "metadata": {},
   "outputs": [],
   "source": [
    "def read_file_into_lines(fname: str) -> list :\n",
    "    ''' Given a .txt file, reads in contents and returns the contents as a list, with one item per line.\n",
    "    \n",
    "    Parameters:\n",
    "        fname (str): The file location. File should be a .txt file\n",
    "        \n",
    "    Returns:\n",
    "        content: A list of strings, with each line in fname being its own item in the list. Lines are split\n",
    "                 only by the newline character.\n",
    "    \n",
    "    '''\n",
    "        \n",
    "    with open(fname) as f:\n",
    "        content = f.readlines()\n",
    "    return content\n"
   ]
  },
  {
   "cell_type": "code",
   "execution_count": null,
   "metadata": {},
   "outputs": [],
   "source": [
    "help(read_file_into_lines)"
   ]
  },
  {
   "cell_type": "code",
   "execution_count": null,
   "metadata": {},
   "outputs": [],
   "source": []
  }
 ],
 "metadata": {
  "kernelspec": {
   "display_name": "Python 3",
   "language": "python",
   "name": "python3"
  },
  "language_info": {
   "codemirror_mode": {
    "name": "ipython",
    "version": 3
   },
   "file_extension": ".py",
   "mimetype": "text/x-python",
   "name": "python",
   "nbconvert_exporter": "python",
   "pygments_lexer": "ipython3",
   "version": "3.7.3"
  }
 },
 "nbformat": 4,
 "nbformat_minor": 2
}
