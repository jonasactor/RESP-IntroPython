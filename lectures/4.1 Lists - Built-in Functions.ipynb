{
 "cells": [
  {
   "cell_type": "markdown",
   "metadata": {},
   "source": [
    "# Some useful functions for lists\n",
    "\n",
    "- **`enumerate()`**\n",
    "- **`filter()`**\n",
    "- **`max()`**\n",
    "- **`sum()`**\n",
    "- **`map()`** and list comprehension"
   ]
  },
  {
   "cell_type": "code",
   "execution_count": null,
   "metadata": {},
   "outputs": [],
   "source": [
    "items = [\"apples\", \"bananas\", \"carrots\", \"doughnuts\", \"eggs\"]\n",
    "cost = [0.40, 0.35, 1.12, 1.00, 0.59]\n",
    "\n",
    "dry_goods = ['oil', 'vinegar', 'flour', 'cereal', 'pretzels']\n",
    "chocolate_bars = ['Hersheys', 'M&Ms', 'Ghirardelli']\n",
    "household = ['tissues', 'paper towels', 'soap']\n",
    "\n"
   ]
  },
  {
   "cell_type": "code",
   "execution_count": null,
   "metadata": {},
   "outputs": [],
   "source": [
    "aisle = [None]*3\n",
    "\n",
    "aisle[0] = items\n",
    "aisle[1] = [dry_goods, chocolate_bars]\n",
    "aisle[2] = household\n",
    "\n"
   ]
  },
  {
   "cell_type": "code",
   "execution_count": null,
   "metadata": {},
   "outputs": [],
   "source": [
    "\n",
    "store = [None]*len(items)\n",
    "for i in range(len(items)):\n",
    "    store[i] = [items[i], cost[i]]\n",
    "    \n",
    "print(store)\n",
    "print(type(store))"
   ]
  },
  {
   "cell_type": "markdown",
   "metadata": {},
   "source": []
  }
 ],
 "metadata": {
  "kernelspec": {
   "display_name": "Python 3",
   "language": "python",
   "name": "python3"
  },
  "language_info": {
   "codemirror_mode": {
    "name": "ipython",
    "version": 3
   },
   "file_extension": ".py",
   "mimetype": "text/x-python",
   "name": "python",
   "nbconvert_exporter": "python",
   "pygments_lexer": "ipython3",
   "version": "3.7.3"
  }
 },
 "nbformat": 4,
 "nbformat_minor": 2
}
