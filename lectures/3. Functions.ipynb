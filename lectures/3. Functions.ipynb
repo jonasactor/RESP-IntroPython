{
 "cells": [
  {
   "cell_type": "markdown",
   "metadata": {},
   "source": [
    "# Functions\n",
    "\n",
    "Functions allow us to write code once amd give that segment of code a name. We can then invoke that code by calling the name of the function.\n",
    "\n",
    "## Defining functions\n",
    "\n",
    "To create a function, we need to define the function with a name using the keyword **`def`**, then give a name, and end the declaration with a colon **`:`**. The body of the function needs to be indented, just like when we had our control flow statements."
   ]
  },
  {
   "cell_type": "code",
   "execution_count": null,
   "metadata": {},
   "outputs": [],
   "source": [
    "def fun1():\n",
    "    print(\"This is a function.\")"
   ]
  },
  {
   "cell_type": "markdown",
   "metadata": {},
   "source": [
    "_Question: why is there no output?_"
   ]
  },
  {
   "cell_type": "code",
   "execution_count": null,
   "metadata": {},
   "outputs": [],
   "source": [
    "fun1()"
   ]
  },
  {
   "cell_type": "markdown",
   "metadata": {},
   "source": [
    "## Functions can have (multiple) arguments\n",
    "\n",
    "Sometimes, we want to change the behavior of a function, depending on the values of a certain variable. To do so, we pass _arguments_ to the function; the function can then use this data."
   ]
  },
  {
   "cell_type": "code",
   "execution_count": null,
   "metadata": {},
   "outputs": [],
   "source": [
    "def fun2(a, b):\n",
    "    print(a + b)\n",
    "    \n",
    "fun2(3,4)"
   ]
  },
  {
   "cell_type": "markdown",
   "metadata": {},
   "source": [
    "## Functions can return values\n",
    "\n",
    "This is useful, if we want to do something with the value later."
   ]
  },
  {
   "cell_type": "code",
   "execution_count": null,
   "metadata": {},
   "outputs": [],
   "source": [
    "def fun3(a, b):\n",
    "    return a + b\n",
    "\n",
    "fun2(fun3(2,6), -3)"
   ]
  },
  {
   "cell_type": "markdown",
   "metadata": {},
   "source": [
    "_Question: What is going on here?_\n",
    "\n",
    "\n",
    "We first call **`fun3`**, providing values **`a = 2`** and **`b = 6`**. The function **`fun3`** then executes, and **`return`** s the result **`8`**. Then, we pass that **`8`** we just computed, along with the number **`-3`**, into **`fun2`**, which add these two and prints the output."
   ]
  },
  {
   "cell_type": "markdown",
   "metadata": {},
   "source": [
    "## Simple functions can be declared inline\n",
    "This is a useful shortcut, but becomes hard to read for complicated statements, and this fails to work well for functions which require multiple lines."
   ]
  },
  {
   "cell_type": "code",
   "execution_count": null,
   "metadata": {},
   "outputs": [],
   "source": [
    "fun4 = lambda a,b: a**b\n",
    "\n",
    "print( fun4(3,2) )"
   ]
  },
  {
   "cell_type": "markdown",
   "metadata": {},
   "source": [
    "## Functions can do complicated things, and can return multiple values"
   ]
  },
  {
   "cell_type": "code",
   "execution_count": null,
   "metadata": {},
   "outputs": [],
   "source": [
    "def mystery(a, b, c):\n",
    "    d1 = b**2 - 4*a*c\n",
    "    d2 = d1**(0.5)\n",
    "    d3 = -b + d2\n",
    "    d4 = -b - d2\n",
    "    d5 = 2*a\n",
    "    d6 = d3 / d5\n",
    "    d7 = d4 / d5\n",
    "    return d6, d7"
   ]
  },
  {
   "cell_type": "markdown",
   "metadata": {},
   "source": [
    "__A useful note:__ It is convenient to name your variables something intelligible. What does the above function do?\n",
    "\n",
    "\n",
    "\n",
    "Here is a complicated (not useful) function."
   ]
  },
  {
   "cell_type": "code",
   "execution_count": null,
   "metadata": {},
   "outputs": [],
   "source": [
    "def strings(str1, str2, k):\n",
    "    if len(str1)==k:\n",
    "        print(\"string 1 is the specified length\")\n",
    "        return k\n",
    "    elif len(str2) < len(str1):\n",
    "        k = (\"sr1\" + \"str2\") * k\n",
    "        return k\n",
    "    else:\n",
    "        return k-1\n",
    "\n",
    "        \n",
    "s1 = strings( \"We the People\", \"We are not in Kansas anymore, Toto\", 3)\n",
    "s2 = strings( \"We are not in Kansas anymore, Toto\", \"May the Force be with you\", 2)"
   ]
  },
  {
   "cell_type": "markdown",
   "metadata": {},
   "source": [
    "_Question: What do you think are in the strings **`s1`** and **`s2`** ?_\n",
    "\n",
    "It's often useful to trace through a function and track step-by-step what is happening."
   ]
  },
  {
   "cell_type": "code",
   "execution_count": null,
   "metadata": {},
   "outputs": [],
   "source": [
    "print(s1)\n",
    "print(s2)"
   ]
  },
  {
   "cell_type": "code",
   "execution_count": null,
   "metadata": {},
   "outputs": [],
   "source": []
  }
 ],
 "metadata": {
  "kernelspec": {
   "display_name": "Python 3",
   "language": "python",
   "name": "python3"
  },
  "language_info": {
   "codemirror_mode": {
    "name": "ipython",
    "version": 3
   },
   "file_extension": ".py",
   "mimetype": "text/x-python",
   "name": "python",
   "nbconvert_exporter": "python",
   "pygments_lexer": "ipython3",
   "version": "3.7.3"
  }
 },
 "nbformat": 4,
 "nbformat_minor": 2
}
