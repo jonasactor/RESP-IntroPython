{
 "cells": [
  {
   "cell_type": "markdown",
   "metadata": {},
   "source": [
    "# Control Flow\n",
    "\n",
    "There are several ways to choose how many times to execute a statement."
   ]
  },
  {
   "cell_type": "markdown",
   "metadata": {},
   "source": [
    "## if, elif, else\n",
    "\n",
    "**`if condition`**:\n",
    "\n",
    "    _execute statements_\n",
    "    \n",
    "**`elif condition`**:\n",
    "\n",
    "    _execute these instead_\n",
    "    \n",
    "**`else`**:\n",
    "\n",
    "    _execute this code otherwise_\n",
    "    \n",
    "    \n",
    "__Note:__ the indentation is important! Python determines the scope of the **`if`** statement by how much space there is at the beginning of a line. After the first non-white-space character in a line, the whitespace doesn't matter."
   ]
  },
  {
   "cell_type": "code",
   "execution_count": null,
   "metadata": {},
   "outputs": [],
   "source": [
    "x = 7\n",
    "temp = 32.1\n",
    "\n",
    "if x//2:\n",
    "    print('x is even')\n",
    "else:\n",
    "    print('x is odd')\n",
    "\n",
    "state = \"\"\n",
    "if temp > 100.0:\n",
    "    state = \"gas\"\n",
    "elif temp > 0.0:\n",
    "    state = \"liquid\"\n",
    "else:\n",
    "    state = \"solid\"\n",
    "print('water is a ', state, ' at ', temp, ' degrees C.')"
   ]
  },
  {
   "cell_type": "markdown",
   "metadata": {},
   "source": [
    "## for loops\n",
    "\n",
    "**`for`** loops iterate over a collection of things a fixed number of times. We'll explore next week; for now, we will start with the **`range()`** function.\n",
    "\n",
    "The fuction **`range(k)`** iterates over k numbers, starting at 0 and ending with k-1."
   ]
  },
  {
   "cell_type": "code",
   "execution_count": null,
   "metadata": {},
   "outputs": [],
   "source": [
    "for i in [0,1,-2,3,6,7]: # this is a list - we will go into lists in more detail later when we discuss collections\n",
    "    print(i)\n",
    "\n",
    "print('\\n')\n",
    "for i in range(10):\n",
    "    if i//2:\n",
    "        print(-i, end=' ')\n",
    "    else:\n",
    "        print(i, end=' ')"
   ]
  },
  {
   "cell_type": "markdown",
   "metadata": {},
   "source": [
    "We can provide a start and end to **`range()`** as follows, so that it does not start at 0.\n",
    "\n",
    "_Question: What do you think the following code does?_"
   ]
  },
  {
   "cell_type": "code",
   "execution_count": null,
   "metadata": {},
   "outputs": [],
   "source": [
    "for j in range(3,16):\n",
    "    if i//3:\n",
    "        print(i)\n",
    "        "
   ]
  },
  {
   "cell_type": "markdown",
   "metadata": {},
   "source": [
    "We can provide also provide an increment, so that we process through the specified range by more than 1 at a time.\n",
    "\n",
    "_Question: What do you think the following code does?_"
   ]
  },
  {
   "cell_type": "code",
   "execution_count": null,
   "metadata": {},
   "outputs": [],
   "source": [
    "for k in range(3,16,2):\n",
    "    if i//3:\n",
    "        print(i)"
   ]
  },
  {
   "cell_type": "markdown",
   "metadata": {},
   "source": [
    "A useful tool for iterating over strings (and other collections) is the __enumerate()__ function. Enumerate keeps track of where we are in the collection we are looping through."
   ]
  },
  {
   "cell_type": "code",
   "execution_count": null,
   "metadata": {},
   "outputs": [],
   "source": [
    "for i, s in enumerate('alsdfkj'):\n",
    "    print(i,': ',s)"
   ]
  },
  {
   "cell_type": "markdown",
   "metadata": {},
   "source": [
    "**`filter`**: an iterator that only yields values for which a given predicate function evalutes to `True`."
   ]
  },
  {
   "cell_type": "code",
   "execution_count": null,
   "metadata": {},
   "outputs": [],
   "source": [
    "# find values up to 10 for which x % 2 is zero\n",
    "is_even = lambda x: x % 2 == 0\n",
    "print(is_even(4), is_even(7), \"\\n\")\n",
    "\n",
    "for val in filter(is_even, range(10)):\n",
    "    print(val, end=' ')"
   ]
  },
  {
   "cell_type": "markdown",
   "metadata": {},
   "source": [
    "## while\n",
    "What if you don't know how many times you want to repeat your code? You use a **`while`** look, which is like a **`for`** loop, but without a fixed duration. The **`while`** loop repeats until a given condition is no longer true."
   ]
  },
  {
   "cell_type": "code",
   "execution_count": null,
   "metadata": {},
   "outputs": [],
   "source": [
    "x = 10\n",
    "while x > 0:\n",
    "    print(x, end=' ')\n",
    "    x -= 1"
   ]
  },
  {
   "cell_type": "code",
   "execution_count": null,
   "metadata": {},
   "outputs": [],
   "source": []
  }
 ],
 "metadata": {
  "kernelspec": {
   "display_name": "Python 3",
   "language": "python",
   "name": "python3"
  },
  "language_info": {
   "codemirror_mode": {
    "name": "ipython",
    "version": 3
   },
   "file_extension": ".py",
   "mimetype": "text/x-python",
   "name": "python",
   "nbconvert_exporter": "python",
   "pygments_lexer": "ipython3",
   "version": "3.7.3"
  }
 },
 "nbformat": 4,
 "nbformat_minor": 2
}
