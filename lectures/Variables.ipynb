{
 "cells": [
  {
   "cell_type": "markdown",
   "metadata": {},
   "source": [
<<<<<<< HEAD
    "# In this Notebook\n",
    "- Variables and Types\n",
    "    - Checking variable values\n",
    "    - Checking variable types\n",
    "- Operations on Variables\n",
    "    - Arithmetic operations on numbers\n",
    "    - Arithmetic operations on other types\n",
    "    - Logical operations\n",
    "- Strings\n",
    "    - Sting basics\n",
    "    - String slicing and manipulation"
   ]
  },
  {
   "cell_type": "markdown",
   "metadata": {},
   "source": [
=======
>>>>>>> c426bdfc626d17f1586acf7de3abbc2215c93fa0
    "# Variables and Types\n",
    "\n",
    "There are several types of variables in Python.\n",
    "1. int\n",
    "2. float\n",
    "3. complex\n",
    "4. string\n",
    "5. bool\n",
    "\n",
    "To declare a variable, you need to provide the variable a __name__ and a __value__."
   ]
  },
  {
   "cell_type": "code",
   "execution_count": 13,
   "metadata": {},
   "outputs": [],
   "source": [
    "x = 5\n",
    "pi = 3.141592654\n",
    "person = \"George Washington\"\n",
    "musician = \"Beyonce\"\n",
    "peter_piper_picked_peppers = False"
   ]
  },
  {
   "cell_type": "markdown",
   "metadata": {},
   "source": [
    "## Checking variable values\n",
<<<<<<< HEAD
    "To check the _value_ of a variable, you can use the **`print()`** function to print the value to the screen."
=======
    "To check the _value_ of a variable, you can use the print() function to print the value to the screen."
>>>>>>> c426bdfc626d17f1586acf7de3abbc2215c93fa0
   ]
  },
  {
   "cell_type": "code",
   "execution_count": 14,
   "metadata": {},
   "outputs": [
    {
     "name": "stdout",
     "output_type": "stream",
     "text": [
      "5\n",
      "Beyonce\n"
     ]
    }
   ],
   "source": [
    "print(x)\n",
    "print(musician)"
   ]
  },
  {
   "cell_type": "markdown",
   "metadata": {},
   "source": [
    "## Checking variable types\n",
    "\n",
<<<<<<< HEAD
    "To check what _type_ of variable you have, use the **`type()`** function"
=======
    "To check what _type_ of variable you have, use the type() function"
>>>>>>> c426bdfc626d17f1586acf7de3abbc2215c93fa0
   ]
  },
  {
   "cell_type": "code",
   "execution_count": 7,
   "metadata": {},
   "outputs": [
    {
     "data": {
      "text/plain": [
       "float"
      ]
     },
     "execution_count": 7,
     "metadata": {},
     "output_type": "execute_result"
    }
   ],
   "source": [
    "type(pi)"
   ]
  },
  {
   "cell_type": "code",
   "execution_count": 8,
   "metadata": {},
   "outputs": [
    {
     "name": "stdout",
     "output_type": "stream",
     "text": [
      "The variable x has type  <class 'int'>\n",
      "Peter Piper peppers is  <class 'bool'>\n"
     ]
    }
   ],
   "source": [
    "print(\"The variable x has type \", type(x))\n",
    "print(\"Peter Piper peppers is \", type(peter_piper_picked_peppers))"
   ]
  },
  {
   "cell_type": "markdown",
   "metadata": {},
   "source": [
    "You can convert variables from one type to another:\n",
<<<<<<< HEAD
    "- **`float()`**\n",
    "- **`int()`**\n",
    "- **`str()`**\n",
    "- **`bool()`**"
=======
    "- float()\n",
    "- int()\n",
    "- str()\n",
    "- bool()"
>>>>>>> c426bdfc626d17f1586acf7de3abbc2215c93fa0
   ]
  },
  {
   "cell_type": "code",
   "execution_count": 27,
   "metadata": {},
   "outputs": [
    {
     "name": "stdout",
     "output_type": "stream",
     "text": [
      "True\n",
      "3\n"
     ]
    }
   ],
   "source": [
    "print(bool(x))\n",
    "print(int(pi))"
   ]
  },
  {
   "cell_type": "markdown",
   "metadata": {},
   "source": [
<<<<<<< HEAD
    "# Operations on variables\n",
=======
    "# Functions on variables\n",
>>>>>>> c426bdfc626d17f1586acf7de3abbc2215c93fa0
    "\n",
    "There are several common operations you can apply to variables. Some important ones are:\n",
    "- Arithmetic operations (addition, subtraction, ...)\n",
    "- Logical operations (equality, and, or, ...)"
   ]
  },
  {
   "cell_type": "markdown",
   "metadata": {},
   "source": [
    "## Arithmetic operations on numbers"
   ]
  },
  {
   "cell_type": "code",
   "execution_count": 29,
   "metadata": {},
   "outputs": [
    {
     "name": "stdout",
     "output_type": "stream",
     "text": [
      "8.141592654\n",
      "15.70796327 0.0\n",
      "1.5915494307111402 0.6283185308\n",
      "1.0 0.0\n",
      "9.869604403666765 0.1111111111111111\n",
      "5\n",
      "3\n"
     ]
    }
   ],
   "source": [
    "# Addition and Subtraction\n",
    "a1 = x + pi\n",
    "print(a1)\n",
    "\n",
    "# Multiplication\n",
    "m1 = x * pi\n",
    "m2 = pi * peter_piper_picked_peppers\n",
    "print(m1, m2)\n",
    "\n",
    "# Division\n",
    "d1 = x / pi\n",
    "d2 = pi / x\n",
    "print(d1, d2)\n",
    "\n",
    "# Integer division\n",
    "id1 = x // pi\n",
    "id2 = pi // x\n",
    "print(id1, id2)\n",
    "\n",
    "# Exponentiation\n",
    "e1 = pi**2\n",
    "e2 = 81**(-0.5)\n",
    "print(e1, e2)\n",
    "\n",
    "# Unary operators update things\n",
    "print(x)\n",
    "x -= 2\n",
    "print(x)"
   ]
  },
  {
   "cell_type": "markdown",
   "metadata": {},
   "source": [
    "## Arithmetic operations on other things"
   ]
  },
  {
   "cell_type": "code",
   "execution_count": 19,
   "metadata": {},
   "outputs": [
    {
     "name": "stdout",
     "output_type": "stream",
     "text": [
      "George Washington Beyonce\n",
      "BeyonceBeyonceBeyonce 0.0\n"
     ]
    }
   ],
   "source": [
    "# String addition\n",
    "a1 = person + \" \" + musician\n",
    "print(a1)\n",
    "\n",
    "# Multiplication with strings and bools\n",
    "m1 = musician * 3\n",
    "m2 = pi * peter_piper_picked_peppers\n",
    "print(m1, m2)"
   ]
  },
  {
   "cell_type": "markdown",
   "metadata": {},
   "source": [
    "## Logical operations\n",
<<<<<<< HEAD
    "- **`==`**, **`<`**, **`>`**, **`<=`**, **`>=`**, **`!=`**\n",
    "- **`and`** \n",
    "- **`or`**\n",
    "- **`not`**\n",
    "- **`is`**"
=======
    "- equality ==, <, >, <=, >=, !=\n",
    "- and \n",
    "- or\n",
    "- not\n",
    "- is"
>>>>>>> c426bdfc626d17f1586acf7de3abbc2215c93fa0
   ]
  },
  {
   "cell_type": "code",
   "execution_count": 23,
   "metadata": {},
   "outputs": [
    {
     "name": "stdout",
     "output_type": "stream",
     "text": [
      "True False False\n"
     ]
    }
   ],
   "source": [
    "l1 = (x == 5 )\n",
    "l2 = (pi is int)\n",
    "l3 = not (person and peter_piper_picked_peppers)\n",
    "\n",
    "print(l1, l2, l3)"
   ]
  },
  {
   "cell_type": "markdown",
   "metadata": {},
   "source": [
<<<<<<< HEAD
    "# Strings\n",
    "\n",
    "Strings function as lists of characters. You can access individual characters using **`[]`** brackets.\n",
    "Indexing starts at 0 (not 1). Negative indices count backwards from the end.\n"
   ]
  },
  {
   "cell_type": "code",
   "execution_count": 30,
   "metadata": {},
   "outputs": [
    {
     "name": "stdout",
     "output_type": "stream",
     "text": [
      "George Washington\n",
      "o\n",
      "ge W\n",
      "Washingto\n"
     ]
    }
   ],
   "source": [
    "print(person)\n",
    "print(person[2])\n",
    "print(person[4:8])\n",
    "print(person[7:-1])"
   ]
  },
  {
   "cell_type": "markdown",
   "metadata": {},
   "source": [
    "## String functions:\n",
    "- **`len()`** returns the length of a string\n",
    "- **`+`** concatenats several strings together\n",
    "- **`split()`** breaks strings apart by a given character\n",
    "\n",
    "Note, there are many others..."
   ]
  },
  {
   "cell_type": "code",
   "execution_count": 36,
   "metadata": {},
   "outputs": [
    {
     "name": "stdout",
     "output_type": "stream",
     "text": [
      "7\n",
      "George Washington Beyonce\n",
      "['g']\n",
      "['Geor', 'e Washin', 'ton']\n"
     ]
    }
   ],
   "source": [
    "print(len(musician))\n",
    "print(person + \" \" + musician)\n",
    "print(person.split('g'))"
=======
    "## Strings\n",
    "\n",
    "Strings:\n",
    "- len() returns the length of a string\n"
>>>>>>> c426bdfc626d17f1586acf7de3abbc2215c93fa0
   ]
  },
  {
   "cell_type": "code",
   "execution_count": null,
   "metadata": {},
   "outputs": [],
   "source": []
  }
 ],
 "metadata": {
  "kernelspec": {
   "display_name": "Python 3",
   "language": "python",
   "name": "python3"
  },
  "language_info": {
   "codemirror_mode": {
    "name": "ipython",
    "version": 3
   },
   "file_extension": ".py",
   "mimetype": "text/x-python",
   "name": "python",
   "nbconvert_exporter": "python",
   "pygments_lexer": "ipython3",
   "version": "3.7.3"
  }
 },
 "nbformat": 4,
 "nbformat_minor": 2
}
