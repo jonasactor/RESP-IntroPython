{
 "cells": [
  {
   "cell_type": "markdown",
   "metadata": {},
   "source": [
    "### Assigned: July 3 2019 5:00pm\n",
    "### Due: July 9 2019 9:30pm\n",
    "### For the due date, complete problems 2-5. If you are up for a challenge, attempt the second section below. For what we did in class, each speaking instance had already been combined into one large line; for the challenge section, the original text formatting and lines has been preserved."
   ]
  },
  {
   "cell_type": "markdown",
   "metadata": {},
   "source": [
    "# Macbeth\n",
    "\n",
    "In these practice problems, we will manipulate strings and lists, taken from Shakespeare's Macbeth, Act 1 Scene III. This text is taken from https://www.folgerdigitaltexts.org/download/txt/Mac.txt but has been slightly cleaned into the datafile Macbeth.txt.\n",
    "\n",
    "The code for the problems we did in class is supplied below.\n",
    "\n",
    "## What we did in class:\n",
    "First, create the following functions:\n",
    "- Some of the lines are entirely blank. Create a function that removes blank lines from the list of lines.\n",
    "- Create a function that, given a line of text, creates a list of words in the line.\n",
    "- Create a function that counts the number of appearances of a word in a line.\n",
    "\n",
    "With the functions you've created, answer the following questions:\n",
    "1. Which characters are present in this scene? (Hint: the first word in each line is the speaker.)\n",
    "\n",
    "## What you still have to do:\n",
    "2. Which character in this scene has the most lines?\n",
    "3. Which character in this scene asks the most questions?\n",
    "4. How many stage directions are there in this scene? (Hint: stage directions begin and end with the **`[ ]`** characters.)\n",
    "5. In this scene, how many times does a character mention another character's name?"
   ]
  },
  {
   "cell_type": "code",
   "execution_count": null,
   "metadata": {},
   "outputs": [],
   "source": [
    "# What we did in class : create functions\n",
    "\n",
    "def read_file_into_lines(fname):\n",
    "    ''' Given a txt file, reads in contents and returns the contents as a list, with one item per line.'''\n",
    "    with open(fname) as f:\n",
    "        content = f.readlines()\n",
    "    return content\n",
    "\n",
    "remove_blank_lines     = lambda text: [line for line in text if len(line) > 1]\n",
    "\n",
    "def break_line_into_words(line):\n",
    "    list_of_words = []\n",
    "    this_word = ''\n",
    "    for letter in line:\n",
    "        if letter == ' ' or letter == '\\n':\n",
    "            list_of_words.append(this_word)\n",
    "            this_word = ''\n",
    "        else:\n",
    "            this_word += letter\n",
    "    return list_of_words\n",
    "\n",
    "def count_word_appearances(line, target):\n",
    "    words = break_line_into_words(line)\n",
    "    count = 0\n",
    "    for w in words:\n",
    "        if w == target:\n",
    "            count += 1\n",
    "    return count\n",
    "\n",
    "# another way:\n",
    "count_word_appearances_2 = lambda line, target: break_line_into_words(line).count(target)\n"
   ]
  },
  {
   "cell_type": "code",
   "execution_count": null,
   "metadata": {},
   "outputs": [],
   "source": [
    "macbeth_a1s3 = read_file_into_lines('../data/Macbeth.txt')\n",
    "macbeth_a1s3_clean = remove_blank_lines(macbeth_a1s3)"
   ]
  },
  {
   "cell_type": "code",
   "execution_count": null,
   "metadata": {},
   "outputs": [],
   "source": [
    "# Problem 1\n",
    "\n",
    "unique_characters = []\n",
    "line_word_list = [break_line_into_words(line) for line in macbeth_a1s3_clean]\n",
    "characters = [words[0] for words in line_word_list]\n",
    "for c in characters:\n",
    "    if not c in unique_characters:\n",
    "        unique_characters.append(c)\n",
    "print(unique_characters)"
   ]
  },
  {
   "cell_type": "code",
   "execution_count": null,
   "metadata": {},
   "outputs": [],
   "source": [
    "# Useful for Problem 5\n",
    "\n",
    "# namecase : str --> str\n",
    "# Returns a given string in namecase, i.e. first letter is capitalized,\n",
    "# the rest are lowercase. If a character is not a letter or number, it \n",
    "# is stripped from the string.\n",
    "def namecase(name):\n",
    "    capscase = name[0]+name[1:].lower()\n",
    "    clean_name = ''\n",
    "    for c in capscase:\n",
    "        if c.isalnum():\n",
    "            clean_name += c\n",
    "    return clean_name\n",
    "\n",
    "# clean_charnames : list[str] --> list[str]\n",
    "# Returns a list of unique strings, converted to namecase\n",
    "def clean_charnames(charlist):\n",
    "    unique_char_namecase = []\n",
    "    for char in charlist:\n",
    "        char_namecase = namecase(char)\n",
    "        if not char_namecase in unique_char_namecase:\n",
    "            unique_char_namecase.append(char_namecase)\n",
    "    return unique_char_namecase"
   ]
  },
  {
   "cell_type": "markdown",
   "metadata": {},
   "source": [
    "# Challenge: More Macbeth\n",
    "\n",
    "Here is some starter code that loads in the complete text of Macbeth, by William Shakespeare.  This text is taken from https://www.folgerdigitaltexts.org/download/txt/Mac.txt and placed into the datafile Macbeth-All.txt; an accompanying list of speaking dramatic persona is in the file Macbeth-Characters.txt. \n",
    "\n",
    "_Note: This text is not cleaned! Speaking instances span several lines; lines may be broken by asides and stage notes._\n",
    "\n",
    "Some problems, becoming progressively harder.\n",
    "- Which character has the most speaking instances?\n",
    "- How many scenes are there in each act?\n",
    "- Which character has the most lines?\n",
    "- How many lines is the largest speaking instance? Whose lines are these?\n",
    "- Who is present in the scene?\n"
   ]
  },
  {
   "cell_type": "code",
   "execution_count": null,
   "metadata": {},
   "outputs": [],
   "source": [
    "macbeth = read_file_into_lines('../data/Macbeth-All.txt')\n",
    "characters = read_file_into_lines('../data/Macbeth-Characters.txt')"
   ]
  },
  {
   "cell_type": "code",
   "execution_count": null,
   "metadata": {},
   "outputs": [],
   "source": []
  }
 ],
 "metadata": {
  "kernelspec": {
   "display_name": "Python 3",
   "language": "python",
   "name": "python3"
  },
  "language_info": {
   "codemirror_mode": {
    "name": "ipython",
    "version": 3
   },
   "file_extension": ".py",
   "mimetype": "text/x-python",
   "name": "python",
   "nbconvert_exporter": "python",
   "pygments_lexer": "ipython3",
   "version": "3.7.3"
  }
 },
 "nbformat": 4,
 "nbformat_minor": 2
}
