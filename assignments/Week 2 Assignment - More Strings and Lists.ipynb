{
 "cells": [
  {
   "cell_type": "markdown",
   "metadata": {},
   "source": [
    "# More Macbeth\n",
    "\n",
    "Here is some starter code that loads in the complete text of Macbeth, by William Shakespeare.  This text is taken from https://www.folgerdigitaltexts.org/download/txt/Mac.txt and placed into the datafile Macbeth-All.txt; an accompanying list of speaking dramatic persona is in the file Macbeth-Characters.txt. \n",
    "\n",
    "_Note: This text is not cleaned! Speaking instances span several lines; lines may be broken by asides and stage notes._\n",
    "\n",
    "Some problems, becoming progressively harder.\n",
    "- Which character has the most speaking instances?\n",
    "- How many scenes are there in each act?\n",
    "- Which character has the most lines?\n",
    "- How many lines is the largest speaking instance? Whose lines are these?\n",
    "- For each line, who is present in the scene?\n",
    "\n",
    "### Assigned: July 3 2019 5:00pm\n",
    "### Due: July 9 2019 5:00pm"
   ]
  },
  {
   "cell_type": "code",
   "execution_count": null,
   "metadata": {},
   "outputs": [],
   "source": [
    "def read_file_into_lines(fname):\n",
    "    ''' Given a txt file, reads in contents and returns the contents as a list, with one item per line.'''\n",
    "    with open(fname) as f:\n",
    "        content = f.readlines()\n",
    "    return content\n",
    "\n",
    "macbeth = read_file_into_lines('../data/Macbeth-All.txt')\n",
    "characters = read_file_into_lines('../data/Macbeth-Characters.txt')"
   ]
  },
  {
   "cell_type": "code",
   "execution_count": null,
   "metadata": {},
   "outputs": [],
   "source": []
  }
 ],
 "metadata": {
  "kernelspec": {
   "display_name": "Python 3",
   "language": "python",
   "name": "python3"
  },
  "language_info": {
   "codemirror_mode": {
    "name": "ipython",
    "version": 3
   },
   "file_extension": ".py",
   "mimetype": "text/x-python",
   "name": "python",
   "nbconvert_exporter": "python",
   "pygments_lexer": "ipython3",
   "version": "3.7.3"
  }
 },
 "nbformat": 4,
 "nbformat_minor": 2
}
