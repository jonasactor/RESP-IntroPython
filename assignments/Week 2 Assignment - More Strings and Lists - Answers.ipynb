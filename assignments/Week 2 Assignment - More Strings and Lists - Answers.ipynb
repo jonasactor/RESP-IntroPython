{
 "cells": [
  {
   "cell_type": "markdown",
   "metadata": {},
   "source": [
    "### Assigned: July 3 2019 5:00pm\n",
    "### Due: July 9 2019 9:30pm\n",
    "### For the due date, complete problems 2-5. If you are up for a challenge, attempt the second section below. For what we did in class, each speaking instance had already been combined into one large line; for the challenge section, the original text formatting and lines has been preserved."
   ]
  },
  {
   "cell_type": "markdown",
   "metadata": {},
   "source": [
    "# Macbeth\n",
    "\n",
    "In these practice problems, we will manipulate strings and lists, taken from Shakespeare's Macbeth, Act 1 Scene III. This text is taken from https://www.folgerdigitaltexts.org/download/txt/Mac.txt but has been slightly cleaned into the datafile Macbeth.txt.\n",
    "\n",
    "The code for the problems we did in class is supplied below.\n",
    "\n",
    "## What we did in class:\n",
    "First, create the following functions:\n",
    "- Some of the lines are entirely blank. Create a function that removes blank lines from the list of lines.\n",
    "- Create a function that, given a line of text, creates a list of words in the line.\n",
    "- Create a function that counts the number of appearances of a word in a line.\n",
    "\n",
    "With the functions you've created, answer the following questions:\n",
    "1. Which characters are present in this scene? (Hint: the first word in each line is the speaker.)\n",
    "\n",
    "## What you still have to do:\n",
    "2. Which character in this scene has the most lines?\n",
    "3. Which character in this scene asks the most questions?\n",
    "4. How many stage directions are there in this scene? (Hint: stage directions begin and end with the **`[ ]`** characters.)\n",
    "5. In this scene, how many times does a character mention another character's name?"
   ]
  },
  {
   "cell_type": "code",
   "execution_count": 1,
   "metadata": {},
   "outputs": [],
   "source": [
    "# What we did in class : create functions\n",
    "\n",
    "def read_file_into_lines(fname):\n",
    "    ''' Given a txt file, reads in contents and returns the contents as a list, with one item per line.'''\n",
    "    with open(fname) as f:\n",
    "        content = f.readlines()\n",
    "    return content\n",
    "\n",
    "remove_blank_lines     = lambda text: [line for line in text if len(line) > 1]\n",
    "\n",
    "def break_line_into_words(line):\n",
    "    list_of_words = []\n",
    "    this_word = ''\n",
    "    for letter in line:\n",
    "        if letter == ' ' or letter == '\\n':\n",
    "            list_of_words.append(this_word)\n",
    "            this_word = ''\n",
    "        else:\n",
    "            this_word += letter\n",
    "    return list_of_words\n",
    "\n",
    "def count_word_appearances(line, target):\n",
    "    words = break_line_into_words(line)\n",
    "    count = 0\n",
    "    for w in words:\n",
    "        if w == target:\n",
    "            count += 1\n",
    "    return count\n",
    "\n",
    "# another way:\n",
    "count_word_appearances_2 = lambda line, target: break_line_into_words(line).count(target)\n"
   ]
  },
  {
   "cell_type": "code",
   "execution_count": 2,
   "metadata": {},
   "outputs": [],
   "source": [
    "macbeth_a1s3 = read_file_into_lines('../data/Macbeth.txt')\n",
    "macbeth_a1s3_clean = remove_blank_lines(macbeth_a1s3)"
   ]
  },
  {
   "cell_type": "code",
   "execution_count": 3,
   "metadata": {},
   "outputs": [
    {
     "name": "stdout",
     "output_type": "stream",
     "text": [
      "['FIRST_WITCH', 'SECOND_WITCH', 'THIRD_WITCH', 'ALL,', 'MACBETH', 'BANQUO', 'ROSS', 'ANGUS', 'MACBETH,']\n"
     ]
    }
   ],
   "source": [
    "# Problem 1\n",
    "\n",
    "unique_characters = []\n",
    "line_word_list = [break_line_into_words(line) for line in macbeth_a1s3_clean]\n",
    "characters = [words[0] for words in line_word_list]\n",
    "for c in characters:\n",
    "    if not c in unique_characters:\n",
    "        unique_characters.append(c)\n",
    "print(unique_characters)"
   ]
  },
  {
   "cell_type": "code",
   "execution_count": 4,
   "metadata": {},
   "outputs": [
    {
     "name": "stdout",
     "output_type": "stream",
     "text": [
      "9 \t: FIRST_WITCH\n",
      "6 \t: SECOND_WITCH\n",
      "6 \t: THIRD_WITCH\n",
      "1 \t: ALL,\n",
      "9 \t: MACBETH\n",
      "12 \t: BANQUO\n",
      "2 \t: ROSS\n",
      "2 \t: ANGUS\n",
      "4 \t: MACBETH,\n",
      "\n",
      "The character with the most lines is  BANQUO  with  12  lines.\n"
     ]
    }
   ],
   "source": [
    "# Problem 2\n",
    "\n",
    "num_characters = len(unique_characters)\n",
    "num_lines = [0]*num_characters\n",
    "for char in characters:\n",
    "    for j,uchar in enumerate(unique_characters):\n",
    "        if uchar == char:\n",
    "            num_lines[j] += 1\n",
    "\n",
    "# Check : Print number of lines for all characters\n",
    "for j in range(num_characters):\n",
    "    print(num_lines[j], '\\t:', unique_characters[j])\n",
    "    \n",
    "# Get character with maximal number of lines\n",
    "max_lines = 0\n",
    "max_idx   = 0\n",
    "for j in range(num_characters):\n",
    "    if num_lines[j] > max_lines:\n",
    "        max_lines = num_lines[j]\n",
    "        max_idx = j\n",
    "print('\\nThe character with the most lines is ', unique_characters[max_idx], ' with ', max_lines, ' lines.')"
   ]
  },
  {
   "cell_type": "code",
   "execution_count": 5,
   "metadata": {},
   "outputs": [],
   "source": [
    "# A useful function for Problems 3 and 4\n",
    "def count_char(line, char):\n",
    "    count = 0\n",
    "    for word in line:\n",
    "        for letter in word:\n",
    "            if letter == char:\n",
    "                count += 1\n",
    "    return count"
   ]
  },
  {
   "cell_type": "code",
   "execution_count": 6,
   "metadata": {},
   "outputs": [
    {
     "name": "stdout",
     "output_type": "stream",
     "text": [
      "1  \t:  FIRST_WITCH\n",
      "0  \t:  SECOND_WITCH\n",
      "1  \t:  THIRD_WITCH\n",
      "0  \t:  ALL,\n",
      "4  \t:  MACBETH\n",
      "11  \t:  BANQUO\n",
      "0  \t:  ROSS\n",
      "0  \t:  ANGUS\n",
      "3  \t:  MACBETH,\n",
      "\n",
      "The character with the most questions is  BANQUO  with  11  questions.\n"
     ]
    }
   ],
   "source": [
    "# Problem 3\n",
    "\n",
    "speaker_question_pairs = [ [line[0], count_char(line, '?')] for line in line_word_list]\n",
    "num_questions = [0]*num_characters\n",
    "for charpair in speaker_question_pairs:\n",
    "    for j,uchar in enumerate(unique_characters):\n",
    "        if charpair[0] == uchar:\n",
    "            num_questions[j] += charpair[1]\n",
    "            \n",
    "# Check : print number of questions for each character            \n",
    "for j in range(num_characters):\n",
    "    print(num_questions[j], ' \\t: ', unique_characters[j])\n",
    "    \n",
    "# Find character who asks the most questions\n",
    "max_qstns = 0\n",
    "max_idx   = 0\n",
    "for j in range(num_characters):\n",
    "    if num_questions[j] > max_qstns:\n",
    "        max_qstns = num_questions[j]\n",
    "        max_idx = j\n",
    "print('\\nThe character with the most questions is ', unique_characters[max_idx], ' with ', max_qstns, ' questions.')"
   ]
  },
  {
   "cell_type": "code",
   "execution_count": 7,
   "metadata": {},
   "outputs": [
    {
     "name": "stdout",
     "output_type": "stream",
     "text": [
      "There are  15  asides in this scene.\n",
      "There are  15  asides in this scene.\n"
     ]
    }
   ],
   "source": [
    "# Problem 4\n",
    "\n",
    "count = 0\n",
    "for line in line_word_list:\n",
    "    count += count_char(line, '[')\n",
    "print('There are ', count, ' asides in this scene.')\n",
    "    \n",
    "# Another way, using the built-in sum() function\n",
    "num_asides = sum([count_char(line, '[') for line in line_word_list])\n",
    "print('There are ', num_asides, ' asides in this scene.')"
   ]
  },
  {
   "cell_type": "code",
   "execution_count": 8,
   "metadata": {},
   "outputs": [],
   "source": [
    "# Useful for Problem 5\n",
    "\n",
    "# namecase : str --> str\n",
    "# Returns a given string in namecase, i.e. first letter is capitalized,\n",
    "# the rest are lowercase. If a character is not a letter or number, it \n",
    "# is stripped from the string.\n",
    "def namecase(name):\n",
    "    capscase = name[0]+name[1:].lower()\n",
    "    clean_name = ''\n",
    "    for c in capscase:\n",
    "        if c.isalnum():\n",
    "            clean_name += c\n",
    "    return clean_name\n",
    "\n",
    "# clean_charnames : list[str] --> list[str]\n",
    "# Returns a list of unique strings, converted to namecase\n",
    "def clean_charnames(charlist):\n",
    "    unique_char_namecase = []\n",
    "    for char in charlist:\n",
    "        char_namecase = namecase(char)\n",
    "        if not char_namecase in unique_char_namecase:\n",
    "            unique_char_namecase.append(char_namecase)\n",
    "    return unique_char_namecase"
   ]
  },
  {
   "cell_type": "code",
   "execution_count": 9,
   "metadata": {},
   "outputs": [
    {
     "name": "stdout",
     "output_type": "stream",
     "text": [
      "A character says the name of another character  23  times.\n"
     ]
    }
   ],
   "source": [
    "# Problem 5\n",
    "unique_char_namecase = clean_charnames(unique_characters)\n",
    "count = 0\n",
    "for line in line_word_list:\n",
    "    for uchar in unique_char_namecase:\n",
    "        for word in line:\n",
    "            if word == uchar or word[:-1] == uchar or word[:-2] == uchar:\n",
    "                count += 1\n",
    "print('A character says the name of another character ', count, ' times.')"
   ]
  },
  {
   "cell_type": "markdown",
   "metadata": {},
   "source": [
    "# Challenge: More Macbeth\n",
    "\n",
    "Here is some starter code that loads in the complete text of Macbeth, by William Shakespeare.  This text is taken from https://www.folgerdigitaltexts.org/download/txt/Mac.txt and placed into the datafile Macbeth-All.txt; an accompanying list of speaking dramatic persona is in the file Macbeth-Characters.txt. \n",
    "\n",
    "_Note: This text is not cleaned! Speaking instances span several lines; lines may be broken by asides and stage notes._\n",
    "\n",
    "Some problems, becoming progressively harder.\n",
    "1. Which character has the most speaking instances?\n",
    "2. How many scenes are there in each act?\n",
    "3. Which character has the most lines?\n",
    "4. How many lines is the largest speaking instance? Whose lines are these?\n",
    "5. Who speaks in each scene?\n"
   ]
  },
  {
   "cell_type": "code",
   "execution_count": 10,
   "metadata": {},
   "outputs": [],
   "source": [
    "macbeth = read_file_into_lines('../data/Macbeth-All.txt')\n",
    "characters = [c[:-1] for c in read_file_into_lines('../data/Macbeth-Characters.txt')]"
   ]
  },
  {
   "cell_type": "code",
   "execution_count": 11,
   "metadata": {},
   "outputs": [],
   "source": [
    "# Functions to process data from strings into blocks into lines\n",
    "\n",
    "\n",
    "def break_line_into_words(line):\n",
    "    list_of_words = []\n",
    "    this_word = ''\n",
    "    for letter in line:\n",
    "        if letter == ' ' or letter == '\\n':\n",
    "            if len(this_word):\n",
    "                list_of_words.append(this_word)\n",
    "                this_word = ''\n",
    "        else:\n",
    "            this_word += letter\n",
    "    return list_of_words\n",
    "\n",
    "\n",
    "def process_text_into_blocks(textlines):\n",
    "    data = []\n",
    "    block = ''\n",
    "    for linestring in textlines:\n",
    "        if len(linestring) > 1:\n",
    "            block += linestring \n",
    "        else:\n",
    "            if block != '':\n",
    "                data.append(block)\n",
    "            block = ''\n",
    "    return data\n",
    "            \n",
    "    \n",
    "def process_block(blockline):\n",
    "    numlines = blockline.count('\\n')\n",
    "    speaker = ''\n",
    "    blockwords = break_line_into_words(blockline)\n",
    "    if blockwords[0] == 'ACT':\n",
    "        return ['act']\n",
    "    if blockwords[0] == 'Scene':\n",
    "        return ['scene', numlines-2, blockwords[3:]]\n",
    "    if blockwords[0][0] == '[':\n",
    "        return ['aside', numlines, blockwords]\n",
    "    \n",
    "    for c in characters:\n",
    "        if blockwords[0] == c or blockwords[0][:-1] == c:\n",
    "            speaker = c\n",
    "            lenc = 1\n",
    "        elif len(blockwords) > 1 and ( (blockwords[0]+' '+blockwords[1] == c) or (blockwords[0]+' '+blockwords[1][:-1] == c)):\n",
    "            speaker = c\n",
    "            lenc = 2\n",
    "        else:\n",
    "             lenc = 0\n",
    "    return [speaker, numlines, blockwords[lenc:]]\n",
    "\n",
    "\n",
    "def process_text_into_data(textlines):\n",
    "    textblocks = process_text_into_blocks(textlines)\n",
    "    blockinfo  = [process_block(b) for b in textblocks]\n",
    "    data = []\n",
    "    act = 0\n",
    "    scene = 0\n",
    "    for b in blockinfo:\n",
    "        if b[0] == 'act':\n",
    "            act += 1\n",
    "            scene = 0\n",
    "        elif b[0] == 'scene':\n",
    "            scene += 1\n",
    "            data.append([act, scene, 'aside', b[1], b[2]])\n",
    "        elif b[0] == '': # case of a part interrupted by an aside - the previous speaker resumes talking\n",
    "            data.append([act, scene, data[-2][2], b[1], b[2]])\n",
    "        else:\n",
    "            data.append([act, scene, *b])\n",
    "    return data\n",
    "\n",
    "\n"
   ]
  },
  {
   "cell_type": "code",
   "execution_count": 12,
   "metadata": {},
   "outputs": [],
   "source": [
    "macbeth_data = process_text_into_data(macbeth)"
   ]
  },
  {
   "cell_type": "code",
   "execution_count": 13,
   "metadata": {},
   "outputs": [
    {
     "name": "stdout",
     "output_type": "stream",
     "text": [
      "13 \t:  ALL\n",
      "0 \t:  WITCHES\n",
      "23 \t:  FIRST WITCH\n",
      "15 \t:  SECOND WITCH\n",
      "13 \t:  THIRD WITCH\n",
      "20 \t:  DUNCAN\n",
      "39 \t:  MALCOLM\n",
      "3 \t:  DONALBAIN\n",
      "152 \t:  MACBETH\n",
      "63 \t:  LADY MACBETH\n",
      "5 \t:  SEYTON\n",
      "3 \t:  MURDERERS\n",
      "11 \t:  FIRST MURDERER\n",
      "6 \t:  SECOND MURDERER\n",
      "6 \t:  THIRD MURDERER\n",
      "20 \t:  DOCTOR\n",
      "12 \t:  GENTLEWOMAN\n",
      "5 \t:  PORTER\n",
      "34 \t:  BANQUO\n",
      "2 \t:  FLEANCE\n",
      "61 \t:  MACDUFF\n",
      "20 \t:  LADY MACDUFF\n",
      "14 \t:  SON\n",
      "21 \t:  LENNOX\n",
      "40 \t:  ROSS\n",
      "4 \t:  ANGUS\n",
      "5 \t:  MENTEITH\n",
      "3 \t:  CAITHNESS\n",
      "11 \t:  SIWARD\n",
      "4 \t:  YOUNG SIWARD\n",
      "3 \t:  CAPTAIN\n",
      "4 \t:  OLD MAN\n",
      "2 \t:  HECATE\n",
      "1 \t:  FIRST APPARITION\n",
      "2 \t:  SECOND APPARITION\n",
      "1 \t:  THIRD APPARITION\n",
      "6 \t:  MESSENGER\n",
      "6 \t:  SERVANT\n",
      "1 \t:  SOLDIER\n",
      "0 \t:  LORDS\n",
      "6 \t:  LORD\n",
      "\n",
      "The character with the most speaking instances is  MACBETH  with  152  speaking parts.\n"
     ]
    }
   ],
   "source": [
    "# Problem 1\n",
    "# Note : parts = speaking instances\n",
    "num_characters = len(characters)\n",
    "num_parts = [0]*num_characters\n",
    "for part in macbeth_data:\n",
    "    for j,char in enumerate(characters):\n",
    "        if part[2] == char:\n",
    "            num_parts[j] += 1\n",
    "            \n",
    "# Check : print number of parts per character\n",
    "for j in range(num_characters):\n",
    "    print(num_parts[j], '\\t: ', characters[j])\n",
    "    \n",
    "# Get max number of parts\n",
    "max_parts = 0\n",
    "max_idx   = 0\n",
    "for j in range(num_characters):\n",
    "    if num_parts[j] > max_parts:\n",
    "        max_parts = num_parts[j]\n",
    "        max_idx   = j\n",
    "print('\\nThe character with the most speaking instances is ', characters[max_idx], ' with ', max_parts, ' speaking parts.')"
   ]
  },
  {
   "cell_type": "code",
   "execution_count": 14,
   "metadata": {},
   "outputs": [
    {
     "name": "stdout",
     "output_type": "stream",
     "text": [
      "Act  1  has  7 scenes.\n",
      "Act  2  has  4 scenes.\n",
      "Act  3  has  6 scenes.\n",
      "Act  4  has  3 scenes.\n",
      "Act  5  has  8 scenes.\n"
     ]
    }
   ],
   "source": [
    "# Problem 2\n",
    "scene_count = []\n",
    "this_act    = 1\n",
    "this_scene  = 0\n",
    "\n",
    "for part in macbeth_data:\n",
    "    if part[0] > this_act:\n",
    "        scene_count.append(this_scene)\n",
    "        this_scene = 0\n",
    "        this_act += 1\n",
    "    else:\n",
    "        this_scene = part[1]\n",
    "scene_count.append(macbeth_data[-1][1])\n",
    "\n",
    "# Print results\n",
    "for j in range(5):\n",
    "    print(\"Act \",j+1,\" has \", scene_count[j],\"scenes.\")\n"
   ]
  },
  {
   "cell_type": "code",
   "execution_count": 15,
   "metadata": {},
   "outputs": [
    {
     "name": "stdout",
     "output_type": "stream",
     "text": [
      "32 \t:  ALL\n",
      "0 \t:  WITCHES\n",
      "83 \t:  FIRST WITCH\n",
      "35 \t:  SECOND WITCH\n",
      "35 \t:  THIRD WITCH\n",
      "81 \t:  DUNCAN\n",
      "218 \t:  MALCOLM\n",
      "10 \t:  DONALBAIN\n",
      "857 \t:  MACBETH\n",
      "295 \t:  LADY MACBETH\n",
      "8 \t:  SEYTON\n",
      "4 \t:  MURDERERS\n",
      "22 \t:  FIRST MURDERER\n",
      "16 \t:  SECOND MURDERER\n",
      "11 \t:  THIRD MURDERER\n",
      "56 \t:  DOCTOR\n",
      "27 \t:  GENTLEWOMAN\n",
      "38 \t:  PORTER\n",
      "132 \t:  BANQUO\n",
      "3 \t:  FLEANCE\n",
      "211 \t:  MACDUFF\n",
      "49 \t:  LADY MACDUFF\n",
      "28 \t:  SON\n",
      "86 \t:  LENNOX\n",
      "156 \t:  ROSS\n",
      "22 \t:  ANGUS\n",
      "13 \t:  MENTEITH\n",
      "13 \t:  CAITHNESS\n",
      "37 \t:  SIWARD\n",
      "11 \t:  YOUNG SIWARD\n",
      "37 \t:  CAPTAIN\n",
      "16 \t:  OLD MAN\n",
      "44 \t:  HECATE\n",
      "4 \t:  FIRST APPARITION\n",
      "5 \t:  SECOND APPARITION\n",
      "6 \t:  THIRD APPARITION\n",
      "29 \t:  MESSENGER\n",
      "8 \t:  SERVANT\n",
      "1 \t:  SOLDIER\n",
      "0 \t:  LORDS\n",
      "27 \t:  LORD\n",
      "\n",
      "The character with the most lines is  MACBETH  with  857  lines.\n"
     ]
    }
   ],
   "source": [
    "# Problem 3\n",
    "num_characters = len(characters)\n",
    "num_lines = [0]*num_characters\n",
    "for part in macbeth_data:\n",
    "    for j,char in enumerate(characters):\n",
    "        if part[2] == char:\n",
    "            num_lines[j] += part[3]\n",
    "            \n",
    "# Check : print number of parts per character\n",
    "for j in range(num_characters):\n",
    "    print(num_lines[j], '\\t: ', characters[j])\n",
    "    \n",
    "# Find max number of lines\n",
    "max_lines = 0\n",
    "max_idx   = 0\n",
    "for j in range(num_characters):\n",
    "    if num_lines[j] > max_lines:\n",
    "        max_lines = num_lines[j]\n",
    "        max_idx   = j\n",
    "print('\\nThe character with the most lines is ', characters[max_idx], ' with ', max_lines, ' lines.')"
   ]
  },
  {
   "cell_type": "code",
   "execution_count": 17,
   "metadata": {},
   "outputs": [
    {
     "name": "stdout",
     "output_type": "stream",
     "text": [
      "The largest speaking instance is spoken by  MACBETH , who speaks for 40 uninterrupted lines in Act 2 Scene 1 .\n"
     ]
    }
   ],
   "source": [
    "# Problem 4\n",
    "largest_part_speaker = ''\n",
    "largest_part_length = 0\n",
    "largest_part_act = 0\n",
    "largest_part_scene = 0\n",
    "for part in macbeth_data:\n",
    "    if part[3] > largest_part_length:\n",
    "        largest_part_length = part[3]\n",
    "        largest_part_speaker = part[2]\n",
    "        largest_part_scene = part[1]\n",
    "        largest_part_act = part[0]\n",
    "print('The largest speaking instance is spoken by ', largest_part_speaker, ', who speaks for',largest_part_length, 'uninterrupted lines in Act', largest_part_act, 'Scene', largest_part_scene, '.')\n",
    "    "
   ]
  },
  {
   "cell_type": "code",
   "execution_count": 18,
   "metadata": {},
   "outputs": [
    {
     "name": "stdout",
     "output_type": "stream",
     "text": [
      "Act  0 :\n",
      "\tScene  0 :  aside FIRST WITCH SECOND WITCH THIRD WITCH ALL\n",
      "\tScene  1 :  aside DUNCAN MALCOLM CAPTAIN LENNOX ROSS\n",
      "\tScene  2 :  aside FIRST WITCH SECOND WITCH THIRD WITCH ALL MACBETH BANQUO ROSS ANGUS\n",
      "\tScene  3 :  aside DUNCAN MALCOLM MACBETH BANQUO\n",
      "\tScene  4 :  aside LADY MACBETH MESSENGER MACBETH\n",
      "\tScene  5 :  aside DUNCAN BANQUO LADY MACBETH\n",
      "\tScene  6 :  aside MACBETH LADY MACBETH\n",
      "Act  1 :\n",
      "\tScene  0 :  aside BANQUO FLEANCE MACBETH\n",
      "\tScene  1 :  aside LADY MACBETH MACBETH\n",
      "\tScene  2 :  aside PORTER MACDUFF LENNOX MACBETH LADY MACBETH BANQUO DONALBAIN MALCOLM ALL\n",
      "\tScene  3 :  aside OLD MAN ROSS MACDUFF\n",
      "Act  2 :\n",
      "\tScene  0 :  aside BANQUO MACBETH LADY MACBETH SERVANT MURDERERS FIRST MURDERER SECOND MURDERER\n",
      "\tScene  1 :  aside LADY MACBETH SERVANT MACBETH\n",
      "\tScene  2 :  aside FIRST MURDERER THIRD MURDERER SECOND MURDERER BANQUO\n",
      "\tScene  3 :  aside MACBETH LORD LADY MACBETH LENNOX ROSS\n",
      "\tScene  4 :  aside FIRST WITCH HECATE\n",
      "\tScene  5 :  aside LENNOX LORD\n",
      "Act  3 :\n",
      "\tScene  0 :  aside FIRST WITCH SECOND WITCH THIRD WITCH ALL HECATE MACBETH FIRST APPARITION SECOND APPARITION THIRD APPARITION LENNOX\n",
      "\tScene  1 :  aside LADY MACDUFF ROSS SON MESSENGER\n",
      "\tScene  2 :  aside MALCOLM MACDUFF DOCTOR ROSS\n",
      "Act  4 :\n",
      "\tScene  0 :  aside DOCTOR GENTLEWOMAN LADY MACBETH\n",
      "\tScene  1 :  aside MENTEITH ANGUS CAITHNESS LENNOX\n",
      "\tScene  2 :  aside MACBETH SERVANT SEYTON DOCTOR\n",
      "\tScene  3 :  aside MALCOLM MENTEITH SIWARD SOLDIER MACDUFF\n",
      "\tScene  4 :  aside MACBETH SEYTON MESSENGER\n",
      "\tScene  5 :  aside MALCOLM SIWARD MACDUFF\n",
      "\tScene  6 :  aside MACBETH YOUNG SIWARD MACDUFF SIWARD MALCOLM\n",
      "\tScene  7 :  aside MACBETH MACDUFF MALCOLM SIWARD ROSS ALL\n"
     ]
    }
   ],
   "source": [
    "# Problem 5\n",
    "scene_cast = [ [[] for i in range(scene_count[j])] for j in range(5)]\n",
    "for part in macbeth_data:\n",
    "    if not (part[2] in scene_cast[part[0]-1][part[1]-1]):\n",
    "        scene_cast[part[0]-1][part[1]-1].append(part[2])\n",
    "\n",
    "# Print results\n",
    "for a in range(5):\n",
    "    print(\"Act \", a, \":\")\n",
    "    for s in range(scene_count[a]):\n",
    "        print(\"\\tScene \", s, \": \", *scene_cast[a][s])"
   ]
  },
  {
   "cell_type": "code",
   "execution_count": null,
   "metadata": {},
   "outputs": [],
   "source": []
  }
 ],
 "metadata": {
  "kernelspec": {
   "display_name": "Python 3",
   "language": "python",
   "name": "python3"
  },
  "language_info": {
   "codemirror_mode": {
    "name": "ipython",
    "version": 3
   },
   "file_extension": ".py",
   "mimetype": "text/x-python",
   "name": "python",
   "nbconvert_exporter": "python",
   "pygments_lexer": "ipython3",
   "version": "3.7.3"
  }
 },
 "nbformat": 4,
 "nbformat_minor": 2
}
