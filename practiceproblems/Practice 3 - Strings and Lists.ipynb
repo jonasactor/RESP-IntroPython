{
 "cells": [
  {
   "cell_type": "markdown",
   "metadata": {},
   "source": [
    "# Practicing with Strings and Lists\n",
    "\n",
    "In these practice problems, we will manipulate strings and lists, taken from Shakespeare's Macbeth, Act 1 Scene III. This text is taken from https://www.folgerdigitaltexts.org/download/txt/Mac.txt but has been slightly cleaned into the datafile Macbeth.txt.\n",
    "\n",
    "Code to read in the scene is supplied below.\n",
    "\n",
    "First, create the following functions:\n",
    "- Some of the lines are entirely blank. Create a function that removes blank lines from the list of lines.\n",
    "- Create a function that, given a line of text, creates a list of words in the line.\n",
    "- Create a function that counts the number of appearances of a word in a line.\n",
    "\n",
    "With the functions you've created, answer the following questions:\n",
    "1. Which characters are present in this scene? (Hint: the first word in each line is the speaker.)\n",
    "2. Which character in this scene has the most lines?\n",
    "3. Which character in this scene asks the most questions?\n",
    "4. How many stage directions are there in this scene? (Hint: stage directions begin and end with the **`[ ]`** characters.)\n",
    "5. In this scene, how many times does a character mention another character's name?"
   ]
  },
  {
   "cell_type": "code",
   "execution_count": null,
   "metadata": {},
   "outputs": [],
   "source": [
    "def read_file_into_lines(fname):\n",
    "    ''' Given a txt file, reads in contents and returns the contents as a list, with one item per line.'''\n",
    "    with open(fname) as f:\n",
    "        content = f.readlines()\n",
    "    return content\n",
    "\n",
    "macbeth_a1s3 = read_file_into_lines('../data/Macbeth.txt')"
   ]
  },
  {
   "cell_type": "code",
   "execution_count": null,
   "metadata": {},
   "outputs": [],
   "source": []
  }
 ],
 "metadata": {
  "kernelspec": {
   "display_name": "Python 3",
   "language": "python",
   "name": "python3"
  },
  "language_info": {
   "codemirror_mode": {
    "name": "ipython",
    "version": 3
   },
   "file_extension": ".py",
   "mimetype": "text/x-python",
   "name": "python",
   "nbconvert_exporter": "python",
   "pygments_lexer": "ipython3",
   "version": "3.7.3"
  }
 },
 "nbformat": 4,
 "nbformat_minor": 2
}
