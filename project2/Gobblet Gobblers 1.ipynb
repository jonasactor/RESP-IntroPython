{
 "cells": [
  {
   "cell_type": "markdown",
   "metadata": {},
   "source": [
    "# Gobblet Gobblers 1\n",
    "\n",
    "The full instructions of this game can be found at the following link:\n",
    "https://www.ultraboardgames.com/gobblet/gobblers.php\n",
    "\n",
    "## The pieces\n",
    "A **`gobbler`** is a piece on the board, used to play the game. A **`gobbler`** has a size and a color. A **`gobbler`** of bigger size can swallow a **`gobbler`** of smaller size.\n",
    "\n",
    "Each player has a color, and each player has with 2 small **`gobblers`**, 2 medium **`gobblers`**, and 2 large **`gobblers`**. These **`gobblers`** begin in the **`stable`**, where unplayed pieces live, off to the side of the **`board`**.\n",
    "\n",
    "You can access the size and color of a **`gobbler`** named **`g`** with:\n",
    "- **`g.size`**\n",
    "- **`g.color`**\n",
    "Small **`gobblers`** have size 1, medium have size 2, and large have size 3.\n",
    "One color is blue, and the other is orange.\n",
    "\n",
    "## The board\n",
    "A **`board`** is a 3x3 list of lists, which keeps track of which pieces have been placed in that square. For example, **`board[0][0]`** describes the pieces in the (0,0) cell on the board i.e. the top left corner; **`board[2][2]`** is the bottom right corner.\n",
    "\n",
    "Each cell on the board keeps track of its **`gobbler`** pieces in a **`list`**. You can access the first **`gobbler`** on the square (i,j) with **`board[i][j][0]`**.\n",
    "\n",
    "## Each turn\n",
    "On a turn, each color player can do the following:\n",
    "- Play a new **`gobbler`** of their color onto the board. A **`gobbler`** can be placed on an empty square, or on a square where the largest **`gobbler`** already on that square is a **`gobbler`** of any color of a (strictly) smaller size.\n",
    "- Move a **`gobbler`** of their color from one square to another. Again, a **`gobbler`** can be moved to an empty square, or to a square where the largest **`gobbler`** already on that square is a **`gobbler`** of any color of a (strictly) smaller size.\n",
    "\n",
    "## Winning the game\n",
    "A game ends when a player has 3 **`gobblers`** of their color in a row (just like tic-tac-toe). We check for a winner when a player places a **`gobbler`** down on their turn, and also immediately after a player lifts a **`gobbler`** before the piece is set back down. By moving a **`gobbler`** off of a square, you expose the largest **`gobblers`** that had previously been gobbled (i.e. covered)."
   ]
  },
  {
   "cell_type": "markdown",
   "metadata": {},
   "source": [
    "# Part 1\n",
    "\n",
    "## Accomplish the following:\n",
    "\n",
    "1. Write a function that, given a **`gobbler`** and a square (= a list of **`gobblers`**), return **`True`** if you can place that gobbler onto that square, and **`False`** otherwise. A **`gobbler`** can be placed on a square if its size is larger than the other **`gobblers`** on the square. We will call these _valid_ squares.\n",
    "2. Write a function that, given a **`gobbler`** and a **`board`**, returns a list of valid squares on that board.\n",
    "3. Write a function that, given a **`gobbler`** and a valid square, returns a new square with the **`gobbler`** placed onto that square.\n",
    "4. Write a function that, given a **`gobbler`** and a **`board`**, returns a list of the possible new valid **`boards`** after you move that **`gobbler`**. You can create this list by using your function from (3) on each square returned by your function from (2).\n",
    "\n",
    "\n",
    "5. Write a function that, given a color and a **`board`**, returns a list of squares where that color has a **`gobbler`** on top. These topmost, biggest **`gobblers`**, plus the **`gobblers`** that are still in the **`stable`**, are the pieces that a player could possibly move this turn.\n",
    "6. Write a function that, given a square and a **`board`**, removes the largest **`gobbler`** from the square, and returns a **`list`** of length two - the first entry is the updated board, and the second is the **`gobbler`** removed from the square.\n",
    "\n",
    "7. Write a function that, given a color, that color's **`stable`**, and a **`board`**, returns a list of the possible new valid **`boards`**. This list includes the following types of moves:\n",
    "    - Moving an unplayed **`gobbler`** from the stable onto a square on the **`board`**\n",
    "    - Moving a **`gobbler`** already on the board to a new square.\n",
    "\n",
    "\n",
    "8. Write a function that, given a **`board`**, checks whether the game has ended; return the color of the winning player if the game has been won, or return **`False`** if the game has not been won. There are eight 'lines' to check on a tic-tac-toe grid; use a set of **`if-elif-elif-...-else`** statements to test for each condition."
   ]
  },
  {
   "cell_type": "code",
   "execution_count": null,
   "metadata": {},
   "outputs": [],
   "source": [
    "import pygame\n",
    "import copy\n",
    "from pygame.sprite import Sprite\n"
   ]
  },
  {
   "cell_type": "code",
   "execution_count": null,
   "metadata": {},
   "outputs": [],
   "source": [
    "class gobbler(Sprite):\n",
    "    \n",
    "    def __init__(self, c, s):\n",
    "        super().__init__()\n",
    "        self.color = c\n",
    "        self.size = s\n",
    "        \n",
    "    def __str__(self):\n",
    "        return self.color + \" \" + str(self.size)\n",
    "    def __repr__(self):\n",
    "        return self.color + \" \" + str(self.size)\n"
   ]
  },
  {
   "cell_type": "code",
   "execution_count": null,
   "metadata": {},
   "outputs": [],
   "source": [
    "def init_game(players):\n",
    "    board = make_empty_board()\n",
    "    stable = [ [], [] ]\n",
    "    for idx, c in enumerate(players):\n",
    "        stable[idx] = make_stable(c)\n",
    "    return board, stable"
   ]
  },
  {
   "cell_type": "code",
   "execution_count": null,
   "metadata": {},
   "outputs": [],
   "source": [
    "def make_empty_board():\n",
    "    return [ [ [],[],[] ], [ [],[],[] ], [ [],[],[] ] ]"
   ]
  },
  {
   "cell_type": "code",
   "execution_count": null,
   "metadata": {},
   "outputs": [],
   "source": [
    "def make_stable(c):\n",
    "    c_stable = []\n",
    "    sizes = [1,2,3]\n",
    "    for s in sizes:\n",
    "        c_stable.append(gobbler(c,s))\n",
    "        c_stable.append(gobbler(c,s))\n",
    "    return c_stable"
   ]
  },
  {
   "cell_type": "markdown",
   "metadata": {},
   "source": [
    "# Initialize the board and stables"
   ]
  },
  {
   "cell_type": "code",
   "execution_count": null,
   "metadata": {},
   "outputs": [],
   "source": [
    "player_colors = [\"blue\", 'orange']\n",
    "board, stable = init_game(player_colors)\n",
    "\n",
    "print(board) # the whole board starts empty\n",
    "print(board[0][0]) # board[0][0] is a square\n",
    "print(stable[1]) "
   ]
  },
  {
   "cell_type": "code",
   "execution_count": null,
   "metadata": {},
   "outputs": [],
   "source": [
    "sample_board = copy.deepcopy(board)\n",
    "sample_board[0][0].append(gobbler('orange', 1))\n",
    "sample_board[0][2].append(gobbler('orange', 2))\n",
    "sample_board[0][2].append(gobbler('blue', 3))\n",
    "sample_board[1][1].append(gobbler('orange', 1))\n",
    "sample_board[1][2].append(gobbler('blue', 2))\n",
    "sample_board[2][1].append(gobbler('blue', 1))\n",
    "sample_board[2][0].append(gobbler('blue', 1))\n",
    "print(sample_board)"
   ]
  },
  {
   "cell_type": "code",
   "execution_count": null,
   "metadata": {},
   "outputs": [],
   "source": []
  },
  {
   "cell_type": "code",
   "execution_count": null,
   "metadata": {},
   "outputs": [],
   "source": []
  }
 ],
 "metadata": {
  "kernelspec": {
   "display_name": "Python 3",
   "language": "python",
   "name": "python3"
  },
  "language_info": {
   "codemirror_mode": {
    "name": "ipython",
    "version": 3
   },
   "file_extension": ".py",
   "mimetype": "text/x-python",
   "name": "python",
   "nbconvert_exporter": "python",
   "pygments_lexer": "ipython3",
   "version": "3.7.3"
  }
 },
 "nbformat": 4,
 "nbformat_minor": 2
}
