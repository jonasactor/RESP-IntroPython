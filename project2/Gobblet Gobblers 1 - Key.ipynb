{
 "cells": [
  {
   "cell_type": "markdown",
   "metadata": {},
   "source": [
    "# Gobblet Gobblers 1\n",
    "\n",
    "The full instructions of this game can be found at the following link:\n",
    "https://www.ultraboardgames.com/gobblet/gobblers.php\n",
    "\n",
    "## The pieces\n",
    "A **`gobbler`** is a piece on the board, used to play the game. A **`gobbler`** has a size and a color. A **`gobbler`** of bigger size can swallow a **`gobbler`** of smaller size.\n",
    "\n",
    "Each player has a color, and each player has with 2 small **`gobblers`**, 2 medium **`gobblers`**, and 2 large **`gobblers`**. These **`gobblers`** begin in the **`stable`**, where unplayed pieces live, off to the side of the **`board`**.\n",
    "\n",
    "You can access the size and color of a **`gobbler`** named **`g`** with:\n",
    "- **`g.size`**\n",
    "- **`g.color`**\n",
    "Small **`gobblers`** have size 1, medium have size 2, and large have size 3.\n",
    "One color is blue, and the other is orange.\n",
    "\n",
    "## The board\n",
    "A **`board`** is a 3x3 list of lists, which keeps track of which pieces have been placed in that square. For example, **`board[0][0]`** describes the pieces in the (0,0) cell on the board i.e. the top left corner; **`board[2][2]`** is the bottom right corner.\n",
    "\n",
    "Each cell on the board keeps track of its **`gobbler`** pieces in a **`list`**. You can access the first **`gobbler`** on the square (i,j) with **`board[i][j][0]`**.\n",
    "\n",
    "## Each turn\n",
    "On a turn, each color player can do the following:\n",
    "- Play a new **`gobbler`** of their color onto the board. A **`gobbler`** can be placed on an empty square, or on a square where the largest **`gobbler`** already on that square is a **`gobbler`** of any color of a (strictly) smaller size.\n",
    "- Move a **`gobbler`** of their color from one square to another. Again, a **`gobbler`** can be moved to an empty square, or to a square where the largest **`gobbler`** already on that square is a **`gobbler`** of any color of a (strictly) smaller size.\n",
    "\n",
    "## Winning the game\n",
    "A game ends when a player has 3 **`gobblers`** of their color in a row (just like tic-tac-toe). We check for a winner when a player places a **`gobbler`** down on their turn, and also immediately after a player lifts a **`gobbler`** before the piece is set back down. By moving a **`gobbler`** off of a square, you expose the largest **`gobblers`** that had previously been gobbled (i.e. covered)."
   ]
  },
  {
   "cell_type": "markdown",
   "metadata": {},
   "source": [
    "# Part 1\n",
    "\n",
    "## Accomplish the following:\n",
    "\n",
    "1. Write a function that, given a **`gobbler`** and a square (= a list of **`gobblers`**), return **`True`** if you can place that gobbler onto that square, and **`False`** otherwise. A **`gobbler`** can be placed on a square if its size is larger than the other **`gobblers`** on the square. We will call these _valid_ squares.\n",
    "2. Write a function that, given a **`gobbler`** and a **`board`**, returns a list of valid squares on that board.\n",
    "3. Write a function that, given a **`gobbler`** and a valid square, returns a new square with the **`gobbler`** placed onto that square.\n",
    "4. Write a function that, given a **`gobbler`** and a **`board`**, returns a list of the possible new valid **`boards`** after you move that **`gobbler`**. You can create this list by using your function from (3) on each square returned by your function from (2).\n",
    "\n",
    "\n",
    "5. Write a function that, given a color and a **`board`**, returns a list of squares where that color has a **`gobbler`** on top. These topmost, biggest **`gobblers`**, plus the **`gobblers`** that are still in the **`stable`**, are the pieces that a player could possibly move this turn.\n",
    "6. Write a function that, given a square and a **`board`**, removes the largest **`gobbler`** from the square, and returns a **`list`** of length two - the first entry is the updated board, and the second is the **`gobbler`** removed from the square.\n",
    "\n",
    "7. Write a function that, given a color, that color's **`stable`**, and a **`board`**, returns a list of the possible new valid **`boards`**. This list includes the following types of moves:\n",
    "    - Moving an unplayed **`gobbler`** from the stable onto a square on the **`board`**\n",
    "    - Moving a **`gobbler`** already on the board to a new square.\n",
    "\n",
    "\n",
    "8. Write a function that, given a **`board`**, checks whether the game has ended; return the color of the winning player if the game has been won, or return **`False`** if the game has not been won. There are eight 'lines' to check on a tic-tac-toe grid; use a set of **`if-elif-elif-...-else`** statements to test for each condition."
   ]
  },
  {
   "cell_type": "code",
   "execution_count": null,
   "metadata": {},
   "outputs": [],
   "source": [
    "import pygame\n",
    "import copy\n",
    "from pygame.sprite import Sprite\n"
   ]
  },
  {
   "cell_type": "code",
   "execution_count": null,
   "metadata": {},
   "outputs": [],
   "source": [
    "class gobbler(Sprite):\n",
    "    \n",
    "    def __init__(self, c, s):\n",
    "        super().__init__()\n",
    "        self.color = c\n",
    "        self.size = s\n",
    "        \n",
    "    def __str__(self):\n",
    "        return self.color + \" \" + str(self.size)\n",
    "    def __repr__(self):\n",
    "        return self.color + \" \" + str(self.size)\n",
    "    def __eq__(self, other):\n",
    "        return self.color == other.color and self.size==other.size\n"
   ]
  },
  {
   "cell_type": "code",
   "execution_count": null,
   "metadata": {},
   "outputs": [],
   "source": [
    "#1\n",
    "def valid_placement_sq(sq, gobb):\n",
    "    if len(sq) == 0:\n",
    "        return True\n",
    "    for g in sq:\n",
    "        if g.size >= gobb.size:\n",
    "            return False\n",
    "    return True\n"
   ]
  },
  {
   "cell_type": "code",
   "execution_count": null,
   "metadata": {},
   "outputs": [],
   "source": [
    "#2\n",
    "def valid_squares_on_board(board, gobb):\n",
    "    good_squares = []\n",
    "    good_idxs = []\n",
    "    for i, row in enumerate(board):\n",
    "        for j, sq in enumerate(row):\n",
    "            if valid_placement_sq(sq, gobb):\n",
    "                good_squares.append(sq)\n",
    "                good_idxs.append((i,j))\n",
    "    return good_squares, good_idxs"
   ]
  },
  {
   "cell_type": "code",
   "execution_count": null,
   "metadata": {},
   "outputs": [],
   "source": [
    "#3\n",
    "def add_gobb_to_sq(sq, gobb):\n",
    "    sq.append(gobb)"
   ]
  },
  {
   "cell_type": "code",
   "execution_count": null,
   "metadata": {},
   "outputs": [],
   "source": [
    "#4\n",
    "def copy_board(board):\n",
    "    newboard = [ [[],[],[]], [[],[],[]], [[],[],[]] ] \n",
    "    for i, row in enumerate(board):\n",
    "        for j, sq in enumerate(row):\n",
    "            for g in sq:\n",
    "                newboard[i][j].append(gobbler(g.color, g.size))\n",
    "    return newboard\n",
    "\n",
    "###\n",
    "### Note: making valid boards by _placing_ a gobbler on the board, not by moving him\n",
    "###  \n",
    "def valid_new_boards(board, gobb):\n",
    "    good_squares, good_idxs = valid_squares_on_board(board, gobb)\n",
    "    updated_boards = []\n",
    "    for k, gidx in enumerate(good_idxs):\n",
    "        new_board = copy_board(board)\n",
    "        add_gobb_to_sq(new_board[gidx[0]][gidx[1]], gobb)\n",
    "        updated_boards.append(new_board)\n",
    "    return updated_boards\n"
   ]
  },
  {
   "cell_type": "code",
   "execution_count": null,
   "metadata": {},
   "outputs": [],
   "source": [
    "#5\n",
    "def get_top_colors(board):\n",
    "    top = [ [ [],[],[] ], [ [],[],[] ], [ [],[],[] ] ]\n",
    "    for i, row in enumerate(board):\n",
    "        for j, sq in enumerate(row):\n",
    "            if len(sq) == 0:\n",
    "                top[i][j] = []\n",
    "            else:\n",
    "                for g in sq:\n",
    "                    if on_top(g, sq):\n",
    "                        top[i][j] = g.color\n",
    "    return top"
   ]
  },
  {
   "cell_type": "code",
   "execution_count": null,
   "metadata": {},
   "outputs": [],
   "source": [
    "#6\n",
    "def on_top(mygob, sq):\n",
    "    for gob in sq:\n",
    "        if gob.size > mygob.size:\n",
    "            return False\n",
    "    return True\n",
    "\n",
    "def remove_largest(board, sq_update_idx):\n",
    "    sq = board[sq_update_idx[0]][sq_update_idx[1]]\n",
    "    largest_size = 0\n",
    "    largest_gobb = None\n",
    "    for g in sq:\n",
    "        if g.size > largest_size:\n",
    "            largest_size = g.size\n",
    "            largest_gobb = g\n",
    "    sq.remove(largest_gobb)\n",
    "    return [board, largest_gobb]"
   ]
  },
  {
   "cell_type": "code",
   "execution_count": null,
   "metadata": {},
   "outputs": [],
   "source": [
    "#7\n",
    "def copy_stable(stable):\n",
    "    newstable = []\n",
    "    for g in stable:\n",
    "        newstable.append(gobbler(g.color, g.size))\n",
    "    return newstable\n",
    "\n",
    "\n",
    "def next_board(stable, board, color):\n",
    "    \n",
    "    new_boards = []\n",
    "    \n",
    "    # check new moves from pieces in stable\n",
    "    for g in stable:\n",
    "        nb = valid_new_boards(board, g)\n",
    "        newstable = copy_stable(stable)\n",
    "        newstable.remove(g) \n",
    "        nbs = [(bd, newstable) for bd in nb]\n",
    "        new_boards += nbs\n",
    "    \n",
    "    # check new moves from pieces on board\n",
    "    for i, row in enumerate(board):\n",
    "        for j, sq in enumerate(row):\n",
    "            for g in sq:\n",
    "                if on_top(g, sq) and g.color==color:\n",
    "                    thisboard = copy_board(board)\n",
    "                    thistable = copy_stable(stable)\n",
    "                    thisboard[i][j].remove(g)\n",
    "                    nb = valid_new_boards(thisboard, g)\n",
    "                    nbs = [(bd, thistable) for bd in nb]\n",
    "                    new_boards += nbs\n",
    "    \n",
    "    return new_boards"
   ]
  },
  {
   "cell_type": "code",
   "execution_count": null,
   "metadata": {},
   "outputs": [],
   "source": [
    "#8\n",
    "def check_win(board):\n",
    "    top = get_top_colors(board)\n",
    "    \n",
    "    row0 = ((top[0][0] == top[0][1]) and (top[0][1] == top[0][2]) and (not (len(top[0][0]) == 0)))\n",
    "    if row0:\n",
    "        return top[0][0]\n",
    "    \n",
    "    row1 = ((top[1][0] == top[1][1]) and (top[1][1] == top[1][2]) and (not (len(top[1][0]) == 0)))\n",
    "    if row1:\n",
    "        return top[1][0]\n",
    "    \n",
    "    row2 = ((top[2][0] == top[2][1]) and (top[2][1] == top[2][2]) and (not (len(top[2][0]) == 0)))\n",
    "    if row2:\n",
    "        return top[2][0]\n",
    "    \n",
    "    col0 = ((top[0][0] == top[1][0]) and (top[1][0] == top[2][0]) and (not (len(top[0][0]) == 0)))\n",
    "    if col0:\n",
    "        return top[0][0]\n",
    "    \n",
    "    col1 = ((top[0][1] == top[1][1]) and (top[1][1] == top[2][1]) and (not (len(top[0][1]) == 0)))\n",
    "    if col1:\n",
    "        return top[0][1]\n",
    "    \n",
    "    col2 = ((top[0][2] == top[1][2]) and (top[1][2] == top[2][2]) and (not (len(top[0][2]) == 0)))\n",
    "    if col2:\n",
    "        return top[0][2]\n",
    "    \n",
    "    dag1 = ((top[0][0] == top[1][1]) and (top[1][1] == top[2][2]) and (not (len(top[0][0]) == 0)))\n",
    "    if dag1:\n",
    "        return top[0][0]\n",
    "    \n",
    "    dag2 = ((top[0][2] == top[1][1]) and (top[1][1] == top[2][0]) and (not (len(top[0][2]) == 0)))\n",
    "    if dag2:\n",
    "        return top[0][2]\n",
    "    \n",
    "    return False"
   ]
  },
  {
   "cell_type": "code",
   "execution_count": null,
   "metadata": {},
   "outputs": [],
   "source": [
    "def init_game(players):\n",
    "    board = make_empty_board()\n",
    "    stable = [ [], [] ]\n",
    "    for idx, c in enumerate(players):\n",
    "        stable[idx] = make_stable(c)\n",
    "    return board, stable"
   ]
  },
  {
   "cell_type": "code",
   "execution_count": null,
   "metadata": {},
   "outputs": [],
   "source": [
    "def make_empty_board():\n",
    "    return [ [ [],[],[] ], [ [],[],[] ], [ [],[],[] ] ]"
   ]
  },
  {
   "cell_type": "code",
   "execution_count": null,
   "metadata": {},
   "outputs": [],
   "source": [
    "def make_stable(c):\n",
    "    c_stable = []\n",
    "    sizes = [1,2,3]\n",
    "    for s in sizes:\n",
    "        c_stable.append(gobbler(c,s))\n",
    "        c_stable.append(gobbler(c,s))\n",
    "    return c_stable"
   ]
  },
  {
   "cell_type": "markdown",
   "metadata": {},
   "source": [
    "# Initialize the board and stables"
   ]
  },
  {
   "cell_type": "code",
   "execution_count": null,
   "metadata": {},
   "outputs": [],
   "source": [
    "player_colors = [\"blue\", 'orange']\n",
    "board, stable = init_game(player_colors)\n",
    "\n",
    "print(board) # the whole board starts empty\n",
    "print(board[0][0]) # board[0][0] is a square\n",
    "print(stable[1]) "
   ]
  },
  {
   "cell_type": "code",
   "execution_count": null,
   "metadata": {},
   "outputs": [],
   "source": [
    "sample_board = copy.deepcopy(board)\n",
    "sample_board[0][0].append(gobbler('orange', 1))\n",
    "sample_board[0][2].append(gobbler('orange', 2))\n",
    "sample_board[0][2].append(gobbler('blue', 3))\n",
    "sample_board[1][1].append(gobbler('orange', 1))\n",
    "sample_board[1][2].append(gobbler('blue', 2))\n",
    "sample_board[2][1].append(gobbler('blue', 1))\n",
    "sample_board[2][0].append(gobbler('blue', 1))\n",
    "print(sample_board)"
   ]
  },
  {
   "cell_type": "code",
   "execution_count": null,
   "metadata": {},
   "outputs": [],
   "source": [
    "# test for code\n",
    "\n",
    "player_colors = [\"blue\", 'orange']\n",
    "board, stable = init_game(player_colors)\n",
    "\n",
    "moves = next_board(stable[1], sample_board, 'orange')\n",
    "for m in moves:\n",
    "    print(\"\\n\\n\\n\\tnew board:\")\n",
    "    print(m[0])\n",
    "    print(\"\\n\\tnew stable:\")\n",
    "    print(m[1])\n",
    "    "
   ]
  },
  {
   "cell_type": "code",
   "execution_count": null,
   "metadata": {},
   "outputs": [],
   "source": []
  },
  {
   "cell_type": "code",
   "execution_count": null,
   "metadata": {},
   "outputs": [],
   "source": []
  }
 ],
 "metadata": {
  "kernelspec": {
   "display_name": "Python 3",
   "language": "python",
   "name": "python3"
  },
  "language_info": {
   "codemirror_mode": {
    "name": "ipython",
    "version": 3
   },
   "file_extension": ".py",
   "mimetype": "text/x-python",
   "name": "python",
   "nbconvert_exporter": "python",
   "pygments_lexer": "ipython3",
   "version": "3.7.3"
  }
 },
 "nbformat": 4,
 "nbformat_minor": 2
}
