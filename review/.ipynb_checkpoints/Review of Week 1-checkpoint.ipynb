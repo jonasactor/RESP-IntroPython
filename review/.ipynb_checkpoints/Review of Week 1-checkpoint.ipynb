{
 "cells": [
  {
   "cell_type": "markdown",
   "metadata": {},
   "source": [
    "1. Write a function called **`opposites`** that, given an input, does the following:\n",
    "    - if the input is a negative number, return its absolute value\n",
    "    - if the input is a boolean, negate it\n",
    "    - if the input is a string, reverse it (Think about how you can do this: use the slice operator [], which follows the same counting rules as we saw in the **`range`** function .)\n",
    "    - else, return the item back"
   ]
  },
  {
   "cell_type": "code",
   "execution_count": null,
   "metadata": {},
   "outputs": [],
   "source": []
  },
  {
   "cell_type": "markdown",
   "metadata": {},
   "source": [
    "2. Write a function called **`count_vowels`** that, given an input, counts the number of vowels in the input. Decide how you want to handle inputs that do not make sense, such as numbers. If more than 30% of the letters in the string are vowels, return a string with the vowels removed."
   ]
  },
  {
   "cell_type": "code",
   "execution_count": null,
   "metadata": {},
   "outputs": [],
   "source": []
  },
  {
   "cell_type": "markdown",
   "metadata": {},
   "source": [
    "3. Write a function called **`compute_distance`** that, given two points $a = (a_1, a_2)$ and $b = (b_1, b_2)$ in $\\mathbb{R}^2$, returns their Euclidean distance. Write a second function called **`compute_length`** that, given a vector $c = (c_1, c_2) \\in \\mathbb{R}^2$, returns the length of the vector. Then, write a third function **`check_vector`** that, given two vectors $a$ and $b$, computes their Euclidean distance, and if the distance between them is greater than 1, returns the length of the vector $a-b$."
   ]
  },
  {
   "cell_type": "code",
   "execution_count": null,
   "metadata": {},
   "outputs": [],
   "source": []
  },
  {
   "cell_type": "markdown",
   "metadata": {},
   "source": [
    "4. Write an inline function (one that declares the function with a **`lambda`** statement) called **`f`** that computes $f(x) = 4 \\left( x - \\frac{1}{2}\\right)^2$. Then, write a function called **`iterative`** that, given a number $y \\in (0,1)$ and a threshold, computes $f(y)$ iteratively until the result is less than the threshold. The function **`iterative`** should return the number of iterations it takes to get the result below the threshold. Make sure your function catches inputs to **`iteration`** that are not in the interval $(0,1)$ and prints a warning accordingly."
   ]
  },
  {
   "cell_type": "code",
   "execution_count": null,
   "metadata": {},
   "outputs": [],
   "source": []
  },
  {
   "cell_type": "markdown",
   "metadata": {},
   "source": [
    "5. Write a function that, given two numbers $start$ and $end$, counts the number of integers in between who are divisible by 6 but not divisible by 4. If this count is larger than 3, return the value $3 \\cdot start$. If this count is not less than 2, and $end$ is less than 20, return the value $count \\cdot start$. Otherwise, return the value $start - end$."
   ]
  },
  {
   "cell_type": "code",
   "execution_count": null,
   "metadata": {},
   "outputs": [],
   "source": []
  }
 ],
 "metadata": {
  "kernelspec": {
   "display_name": "Python 3",
   "language": "python",
   "name": "python3"
  },
  "language_info": {
   "codemirror_mode": {
    "name": "ipython",
    "version": 3
   },
   "file_extension": ".py",
   "mimetype": "text/x-python",
   "name": "python",
   "nbconvert_exporter": "python",
   "pygments_lexer": "ipython3",
   "version": "3.7.3"
  }
 },
 "nbformat": 4,
 "nbformat_minor": 2
}
