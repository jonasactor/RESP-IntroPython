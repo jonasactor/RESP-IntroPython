{
 "cells": [
  {
   "cell_type": "markdown",
   "metadata": {},
   "source": [
    "# Review - Recursion\n",
    "\n",
    "1. Write a _nonrecursive_ function that calculates the factorial of a given number.\n",
    "2. Write a _recursive_ function that calculates the factorial of a given number.\n",
    "\n",
    "\n",
    "3. Write a _recursive_ function that, given two starting values and a length **`k`**, outputs a Fibonacci sequence of length **`k`** with those starting values."
   ]
  },
  {
   "cell_type": "code",
   "execution_count": null,
   "metadata": {},
   "outputs": [],
   "source": []
  }
 ],
 "metadata": {
  "kernelspec": {
   "display_name": "Python 3",
   "language": "python",
   "name": "python3"
  },
  "language_info": {
   "codemirror_mode": {
    "name": "ipython",
    "version": 3
   },
   "file_extension": ".py",
   "mimetype": "text/x-python",
   "name": "python",
   "nbconvert_exporter": "python",
   "pygments_lexer": "ipython3",
   "version": "3.7.3"
  }
 },
 "nbformat": 4,
 "nbformat_minor": 2
}
