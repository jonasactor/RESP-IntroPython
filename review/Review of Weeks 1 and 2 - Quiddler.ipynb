{
 "cells": [
  {
   "cell_type": "markdown",
   "metadata": {},
   "source": [
    "# Quiddler Practice\n",
    "\n",
    "A **`card`** is a **`list`** of length 2, where the **`card[0]`** is the letter on the card, and **`card[1]`** is its value.\n",
    "\n",
    "A **`deck`** is a **`list`** of cards.\n",
    "\n",
    "Write functions to do the following:\n",
    "1. Given a card, return its letter.\n",
    "2. Given a card, return its value.\n",
    "3. Given a card, return **`True`** if the card's letter(s) contain a vowel, and **`False`** otherwise.\n",
    "4. Given a card, return **`True`** if the card's value is less than five, and **`False`** otherwise.\n",
    "5. Given a list of cards, return the sum of the cards' values.\n",
    "6. Given a list of cards, return a list of the cards whose letters contain a vowel.\n",
    "7. Given a list of cards, return a list of the cards whose values are less than five.\n",
    "\n",
    "Answer the following questions:\n",
    "1. What is the largest value in the Quiddler deck?\n",
    "2. What _letter_ has the largest value in the Quiddler deck?\n",
    "3. What letter has the smallest value in the Quiddler deck?\n",
    "4. Which _3 letters_ have the smallest values in the Quiddler deck?\n",
    "5. How many _cards in the deck_ are worth four points?\n",
    "6. How many _letters_ are worth less than five points?\n",
    "7. What is the sum of all the cards in the deck that are vowels?\n",
    "8. What is the sum of all the cards in the deck who have a value of less than five?"
   ]
  },
  {
   "cell_type": "code",
   "execution_count": 21,
   "metadata": {},
   "outputs": [],
   "source": [
    "deck =  [['A', 2]]*5 + [['B', 8]] + [['C', 8]] + [['D', 5]]*2 + \\\n",
    "[['E', 2]]*6 + [['F', 6]]   + [['G', 6]]*2 + [['H', 7]]   + \\\n",
    "[['I', 2]]*4 + [['J', 13]]  + [['K', 8]]   + [['L', 3]]*2 + \\\n",
    "[['M', 5]]   + [['N', 5]]*3 + [['O', 2]]*4 + [['P', 6]]   + \\\n",
    "[['Q', 15]]  + [['R', 5]]*3 + [['S', 3]]*2 + [['T', 3]]*3 + \\\n",
    "[['U', 4]]*3 + [['V', 11]]  + [['W', 10]]  + [['X', 12]]  + \\\n",
    "[['Y', 4]]*2 + [['Z', 14]]  + [['QU', 9]]  + [['IN', 7]]  + \\\n",
    "[['ER', 7]]  + [['CL', 10]] + [['TH', 9]]\n",
    "\n",
    "vowels = ['A', 'E', 'I', 'O', 'U']"
   ]
  },
  {
   "cell_type": "markdown",
   "metadata": {},
   "source": [
    "# Quiddler and Words\n",
    "\n",
    "Write functions to do the following:\n",
    "1. Given a Quiddler card and a word, determine if that card's letter appears in that word. Return **`True`** if the card's letter appears, and **`False`** otherwise.\n",
    "2. Given a word, return the sum of all the unique Quiddler cards that could be used to make that word. For example, the word 'QUEEN' could use the following cards: **`['Q', 15], ['U', 4], ['E', 2], ['N', 5], ['QU', 9]`**. We will call this the **`score`** of a word.\n",
    "3. Given a list of words, return the score of the highest word.\n",
    "4. Given a list of words, return the word with the highest score."
   ]
  },
  {
   "cell_type": "code",
   "execution_count": 22,
   "metadata": {},
   "outputs": [],
   "source": [
    "words = ['not', 'job', 'code', 'hike', 'peak', 'front', 'item',      \\\n",
    "         'see', 'open', 'oven', 'film', 'walk', 'vote', 'wolf',      \\\n",
    "         'sweat', 'bacon', 'bank', 'snail', 'relax', 'kitten',       \\\n",
    "         'ideal', 'fast', 'tasty', 'water', 'suit', 'deer',          \\\n",
    "         'cost', 'book', 'black', 'dirty', 'yes', 'zebra', 'quilt',  \\\n",
    "         'click', 'magic', 'jail', 'fire', 'hand', 'bottle', 'fuel', \\\n",
    "         'room', 'bed', 'wagon', 'queen', 'ever', 'think', 'exact',  \\\n",
    "         'help', 'grab', 'pull', 'tax', 'very', 'under', 'yet',      \\\n",
    "         'cow', 'your', 'miss', 'jump', 'lip']\n",
    "words = [w.upper() for w in words]"
   ]
  },
  {
   "cell_type": "code",
   "execution_count": 1,
   "metadata": {},
   "outputs": [
    {
     "name": "stdout",
     "output_type": "stream",
     "text": [
      "True\n"
     ]
    }
   ],
   "source": [
    "print('QU' in 'QUEEN')"
   ]
  },
  {
   "cell_type": "code",
   "execution_count": null,
   "metadata": {},
   "outputs": [],
   "source": []
  }
 ],
 "metadata": {
  "kernelspec": {
   "display_name": "Python 3",
   "language": "python",
   "name": "python3"
  },
  "language_info": {
   "codemirror_mode": {
    "name": "ipython",
    "version": 3
   },
   "file_extension": ".py",
   "mimetype": "text/x-python",
   "name": "python",
   "nbconvert_exporter": "python",
   "pygments_lexer": "ipython3",
   "version": "3.7.3"
  }
 },
 "nbformat": 4,
 "nbformat_minor": 2
}
