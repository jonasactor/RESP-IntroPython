{
 "cells": [
  {
   "cell_type": "markdown",
   "metadata": {},
   "source": [
    "1. Write a function called **`opposites`** that, given an input, does the following:\n",
    "    - if the input is a negative number, return its absolute value\n",
    "    - if the input is a boolean, negate it\n",
    "    - if the input is a string, reverse it (Think about how you can do this: use the slice operator [], which follows the same counting rules as we saw in the **`range`** function .)\n",
    "    - else, return the item back"
   ]
  },
  {
   "cell_type": "code",
   "execution_count": 3,
   "metadata": {},
   "outputs": [],
   "source": [
    "def opposites(x):\n",
    "    if type(x) == int:\n",
    "        return abs(x)\n",
    "    elif type(x) == bool:\n",
    "        return not x\n",
    "    elif type(x) == str:\n",
    "        return x[-1::-1]\n",
    "    else:\n",
    "        return x"
   ]
  },
  {
   "cell_type": "code",
   "execution_count": 2,
   "metadata": {},
   "outputs": [
    {
     "name": "stdout",
     "output_type": "stream",
     "text": [
      "5\n",
      "False\n",
      "racecar\n"
     ]
    }
   ],
   "source": [
    "print(opposites(-5))\n",
    "print(opposites(True))\n",
    "print(opposites(\"racecar\"))"
   ]
  },
  {
   "cell_type": "markdown",
   "metadata": {},
   "source": [
    "2. Write a function called **`count_vowels`** that, given an input, counts the number of vowels in the input. Decide how you want to handle inputs that do not make sense, such as numbers. If more than 30% of the letters in the string are vowels, return a string with the vowels removed."
   ]
  },
  {
   "cell_type": "code",
   "execution_count": 11,
   "metadata": {},
   "outputs": [],
   "source": [
    "def count_vowels(input):\n",
    "    word = \"\"\n",
    "    vowel_count = 0\n",
    "    vowels_list = ['a', 'e', 'i', 'o', 'u']\n",
    "    if not type(input) == str:\n",
    "        return \"bad input\"\n",
    "    for i in input:\n",
    "        for j in vowels_list:\n",
    "            if i == j:\n",
    "                vowel_count += 1\n",
    "    input_length = len(input)\n",
    "    if vowel_count / input_length > 0.3:\n",
    "        for k in input:\n",
    "            if k!= 'a' and k!= 'e' and k!='i' and k!='o' and k!='u':\n",
    "                word += k\n",
    "        return word, vowel_count\n",
    "    else:\n",
    "        return vowel_count"
   ]
  },
  {
   "cell_type": "code",
   "execution_count": 12,
   "metadata": {},
   "outputs": [
    {
     "data": {
      "text/plain": [
       "('clssrm', 3)"
      ]
     },
     "execution_count": 12,
     "metadata": {},
     "output_type": "execute_result"
    }
   ],
   "source": [
    "count_vowels('classroom')"
   ]
  },
  {
   "cell_type": "code",
   "execution_count": 13,
   "metadata": {},
   "outputs": [
    {
     "name": "stdout",
     "output_type": "stream",
     "text": [
      "3\n",
      "4\n",
      "5\n"
     ]
    }
   ],
   "source": [
    "for i in range(3,6):\n",
    "    print(i)"
   ]
  },
  {
   "cell_type": "code",
   "execution_count": 14,
   "metadata": {},
   "outputs": [
    {
     "name": "stdout",
     "output_type": "stream",
     "text": [
      "3\n",
      "4\n",
      "5\n"
     ]
    }
   ],
   "source": [
    "for i in [3,4,5]:\n",
    "    print(i)"
   ]
  },
  {
   "cell_type": "markdown",
   "metadata": {},
   "source": [
    "3. Write a function called **`compute_distance`** that, given two points $a = (a_1, a_2)$ and $b = (b_1, b_2)$ in $\\mathbb{R}^2$, returns their Euclidean distance. Write a second function called **`compute_length`** that, given a vector $c = (c_1, c_2) \\in \\mathbb{R}^2$, returns the length of the vector. Then, write a third function **`check_vector`** that, given two vectors $a$ and $b$, computes their Euclidean distance, and if the distance between them is greater than 1, returns the length of the vector $a-b$."
   ]
  },
  {
   "cell_type": "code",
   "execution_count": 19,
   "metadata": {},
   "outputs": [
    {
     "name": "stdout",
     "output_type": "stream",
     "text": [
      "2.23606797749979\n"
     ]
    }
   ],
   "source": [
    "def compute_distance(a1,a2,b1,b2):\n",
    "    a = ((b1-a1)**2 + (b2-a2)**2)**(0.5)\n",
    "#     print(a)\n",
    "    return a\n",
    "\n",
    "compute_distance(3,4,5,6)\n",
    "\n",
    "def compute_length(c1,c2):\n",
    "    l = ((c1**2 + c2**2))**(0.5)\n",
    "#     print(l)\n",
    "    return l\n",
    "    \n",
    "compute_length(3,4)\n",
    "\n",
    "\n",
    "def check_vector(a1,a2,b1,b2):\n",
    "    da = compute_length(a1,a2)\n",
    "    db = compute_length(b1,b2)\n",
    "    if compute_distance(a1,a2,b1,b2) > 1:\n",
    "        return compute_length(a1-b1, a2-b2)\n",
    "    \n",
    "print(check_vector(0,1,2,0))"
   ]
  },
  {
   "cell_type": "markdown",
   "metadata": {},
   "source": [
    "4. Write an inline function (one that declares the function with a **`lambda`** statement) called **`f`** that computes $f(x) = 4 \\left( x - \\frac{1}{2}\\right)^2$. Then, write a function called **`iterative`** that, given a number $y \\in (0,1)$ and a threshold, computes $f(y)$ iteratively until the result is less than the threshold. The function **`iterative`** should return the number of iterations it takes to get the result below the threshold. Make sure your function catches inputs to **`iteration`** that are not in the interval $(0,1)$ and prints a warning accordingly."
   ]
  },
  {
   "cell_type": "code",
   "execution_count": 23,
   "metadata": {},
   "outputs": [
    {
     "name": "stdout",
     "output_type": "stream",
     "text": [
      "0.19359999999999997 0\n",
      "0.37552384 1\n",
      "0.0619772576333824 2\n"
     ]
    },
    {
     "data": {
      "text/plain": [
       "3"
      ]
     },
     "execution_count": 23,
     "metadata": {},
     "output_type": "execute_result"
    }
   ],
   "source": [
    "fun1= lambda x : 4*(x - 1/2)**2\n",
    "\n",
    "threshold = 0.1\n",
    "\n",
    "def iterative(y):\n",
    "    if y <= 0 or y >= 1 :\n",
    "        print('y out of range')\n",
    "        return 0\n",
    "    count = 0\n",
    "    while y > threshold: \n",
    "        y = fun1(y)\n",
    "        print(y, count)\n",
    "        count += 1\n",
    "    return count\n",
    "\n",
    "iterative(0.28)"
   ]
  },
  {
   "cell_type": "markdown",
   "metadata": {},
   "source": [
    "5. Write a function that, given two numbers $start$ and $end$, counts the number of integers in between who are divisible by 6 but not divisible by 4. If this count is larger than 3, return the value $3 \\cdot start$. If this count is not less than 2, and $end$ is less than 20, return the value $count \\cdot start$. Otherwise, return the value $start - end$."
   ]
  },
  {
   "cell_type": "code",
   "execution_count": 27,
   "metadata": {},
   "outputs": [
    {
     "name": "stdout",
     "output_type": "stream",
     "text": [
      "2\n",
      "2\n"
     ]
    }
   ],
   "source": [
    "def start_end_diff(start,end):\n",
    "    count = 0\n",
    "    for c in range(start,end+1):\n",
    "#         if c // 6 and not c // 4:\n",
    "        if not c%6 and c%4:\n",
    "            count += 1\n",
    "            \n",
    "    print(count)\n",
    "    if count > 3:\n",
    "        print(3*start)\n",
    "    if count >= 2 and end < 20:\n",
    "        print(count * start)\n",
    "    else:\n",
    "        print(start-end)\n",
    "        \n",
    "start_end_diff(1,18)"
   ]
  },
  {
   "cell_type": "code",
   "execution_count": 28,
   "metadata": {},
   "outputs": [
    {
     "name": "stdout",
     "output_type": "stream",
     "text": [
      "3\n",
      "1\n",
      "4\n",
      "0\n"
     ]
    }
   ],
   "source": [
    "print( 7 %  4 )\n",
    "print( 7 // 4 )\n",
    "print( 4 %  7 )\n",
    "print( 4 // 7 )"
   ]
  },
  {
   "cell_type": "code",
   "execution_count": null,
   "metadata": {},
   "outputs": [],
   "source": []
  }
 ],
 "metadata": {
  "kernelspec": {
   "display_name": "Python 3",
   "language": "python",
   "name": "python3"
  },
  "language_info": {
   "codemirror_mode": {
    "name": "ipython",
    "version": 3
   },
   "file_extension": ".py",
   "mimetype": "text/x-python",
   "name": "python",
   "nbconvert_exporter": "python",
   "pygments_lexer": "ipython3",
   "version": "3.7.3"
  }
 },
 "nbformat": 4,
 "nbformat_minor": 2
}
