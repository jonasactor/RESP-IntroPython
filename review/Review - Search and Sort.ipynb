{
 "cells": [
  {
   "cell_type": "markdown",
   "metadata": {},
   "source": [
    "# Review : Search and Sort\n",
    "\n",
    "1. Write a function called **`my_max`** that, given a list, gets the largest element in the list.\n",
    "2. Write a function called **`my_search`** that, given a list and a target element, uses Binary Search to find the item in the list.\n",
    "3. Write a function called **`my_sort`** that, given a list, sorts the list using Bubble Sort.\n",
    "\n",
    "\n",
    "To test your code, use the provided function **`generate_data`** to generate a list of random numbers. Test your functions on lists of size **10** and **100**."
   ]
  },
  {
   "cell_type": "code",
   "execution_count": null,
   "metadata": {},
   "outputs": [],
   "source": [
    "import numpy as np\n",
    "\n",
    "def generate_data(n):\n",
    "    return [round(x, 2) for x in np.random.normal(size=n,scale=n)]"
   ]
  },
  {
   "cell_type": "code",
   "execution_count": null,
   "metadata": {},
   "outputs": [],
   "source": []
  },
  {
   "cell_type": "markdown",
   "metadata": {},
   "source": [
    "# Review : Computational Complexity\n",
    "\n",
    "Python has built-in functions for each of the three questions above. The following code compares the runtime of your code compared to the built-in Python functions.\n",
    "\n",
    "Run this code to see how well your code compares. Make sure your functions have the names **`my_max`**, **`my_search`**, and **`my_sort`**. What conclusions can you make about the runtime of your functions? What about for Python's functions?"
   ]
  },
  {
   "cell_type": "code",
   "execution_count": null,
   "metadata": {},
   "outputs": [],
   "source": [
    "import time\n",
    "from matplotlib import pyplot as plt\n",
    "\n",
    "def test_fun(my_fun, py_fun, name):\n",
    "    \n",
    "    ns      = []\n",
    "    my_time = []\n",
    "    py_time = []\n",
    "    \n",
    "    for n in range(100,10000,200):\n",
    "        x = generate_data(n)\n",
    "        x.append(-5)\n",
    "        ns.append(n+1)\n",
    "        \n",
    "        start = time.time()\n",
    "        my_fun(x)\n",
    "        end = time.time()\n",
    "        my_time.append(end-start)\n",
    "\n",
    "        start = time.time()\n",
    "        py_fun(x)\n",
    "        end = time.time()\n",
    "        py_time.append(end-start)\n",
    "        \n",
    "    plt.plot(ns, my_time, 'r^', label=\"my function\")\n",
    "    plt.plot(ns, py_time, 'bs',  label=\"python function\")\n",
    "    plt.legend()\n",
    "    plt.title(\"Comparison of \" + name.upper() + \" function\")\n",
    "    plt.show()"
   ]
  },
  {
   "cell_type": "code",
   "execution_count": null,
   "metadata": {},
   "outputs": [],
   "source": [
    "py_max = lambda x : max(x)\n",
    "py_search = lambda x, target : x.index(target)\n",
    "py_sort = lambda x : x.sort()\n",
    "\n",
    "my_search_0 = lambda x : my_search(x, -5)\n",
    "py_search_0 = lambda x : py_search(x, -5)\n",
    "\n",
    "my_fxns = [my_max, my_search_0, my_sort]\n",
    "py_fxns = [py_max, py_search_0, py_sort]\n",
    "names   = ['max', 'search', 'sort']\n",
    "\n",
    "for i in range(3):\n",
    "    test_fun(my_fxns[i], py_fxns[i], names[i])"
   ]
  },
  {
   "cell_type": "code",
   "execution_count": null,
   "metadata": {},
   "outputs": [],
   "source": []
  }
 ],
 "metadata": {
  "kernelspec": {
   "display_name": "Python 3",
   "language": "python",
   "name": "python3"
  },
  "language_info": {
   "codemirror_mode": {
    "name": "ipython",
    "version": 3
   },
   "file_extension": ".py",
   "mimetype": "text/x-python",
   "name": "python",
   "nbconvert_exporter": "python",
   "pygments_lexer": "ipython3",
   "version": "3.7.3"
  }
 },
 "nbformat": 4,
 "nbformat_minor": 2
}
