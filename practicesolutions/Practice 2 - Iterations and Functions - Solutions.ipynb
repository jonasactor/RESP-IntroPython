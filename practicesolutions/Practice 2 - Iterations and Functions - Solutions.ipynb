{
 "cells": [
  {
   "cell_type": "markdown",
   "metadata": {},
   "source": [
    "Fizz buzz is a classic intro programming problem. The problem is as follows:\n",
    "Write a program that prints the numbers from 1 to n, but for multiples of three print Fizz instead of the number and for the multiples of five print Buzz. For numbers which are multiples of both three and five print FizzBuzz."
   ]
  },
  {
   "cell_type": "code",
   "execution_count": null,
   "metadata": {},
   "outputs": [],
   "source": []
  },
  {
   "cell_type": "markdown",
   "metadata": {},
   "source": [
    "Write a function that counts the number of times a word appears in a text, given the text as a string and the desired words."
   ]
  },
  {
   "cell_type": "code",
   "execution_count": null,
   "metadata": {},
   "outputs": [],
   "source": []
  },
  {
   "cell_type": "markdown",
   "metadata": {},
   "source": [
    "Write a function that prints the first n prime numbers."
   ]
  },
  {
   "cell_type": "code",
   "execution_count": null,
   "metadata": {},
   "outputs": [],
   "source": []
  },
  {
   "cell_type": "markdown",
   "metadata": {},
   "source": [
    "Approximate the area under the sine function from $[0, \\pi]$.\n",
    "\n",
    "Suggestion: Can you think of a way to do this using random numbers and without                                using geometric approximation/calculus?"
   ]
  },
  {
   "cell_type": "code",
   "execution_count": null,
   "metadata": {},
   "outputs": [],
   "source": []
  },
  {
   "cell_type": "markdown",
   "metadata": {},
   "source": [
    "Given a polynomial represented as a list of coefficients (how can we do this?), and a given x, evaluate the function at that point."
   ]
  },
  {
   "cell_type": "code",
   "execution_count": null,
   "metadata": {},
   "outputs": [],
   "source": []
  },
  {
   "cell_type": "markdown",
   "metadata": {},
   "source": [
    "Write a function that uses the bisection method to find the x value that gives the root of a polynomial f(x) within a particular x interval provided a tolerance, when the polynomial represented as a list, a lower bound, and an upper bound for the x interval are input. Complete problem assuming one root."
   ]
  },
  {
   "cell_type": "code",
   "execution_count": null,
   "metadata": {},
   "outputs": [],
   "source": []
  },
  {
   "cell_type": "markdown",
   "metadata": {},
   "source": [
    "Take a circle of radius 1. Within the circle, inscribe an equilateral triangle. Then, within the triangle, inscribe new smaller circle. Within the smaller circle inscribe a regular square, and within the square, inscribe yet another circle. Within the smaller circle inscribe a regular pentagon, and within the pentagon, inscribe yet another circle. Iterate this process of inscribing regular polygon and a new smaller circle, increasing the number of sides of the polygon by 1 each time.\n",
    "     What is the radius of the limiting circle?"
   ]
  },
  {
   "cell_type": "code",
   "execution_count": null,
   "metadata": {},
   "outputs": [],
   "source": []
  }
 ],
 "metadata": {
  "kernelspec": {
   "display_name": "Python 3",
   "language": "python",
   "name": "python3"
  },
  "language_info": {
   "codemirror_mode": {
    "name": "ipython",
    "version": 3
   },
   "file_extension": ".py",
   "mimetype": "text/x-python",
   "name": "python",
   "nbconvert_exporter": "python",
   "pygments_lexer": "ipython3",
   "version": "3.7.3"
  }
 },
 "nbformat": 4,
 "nbformat_minor": 2
}
