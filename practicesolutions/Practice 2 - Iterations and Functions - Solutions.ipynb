{
 "cells": [
  {
   "cell_type": "markdown",
   "metadata": {},
   "source": [
    "Fizz buzz is a classic intro programming problem. The problem is as follows:\n",
    "Write a program that prints the numbers from 1 to n, but for multiples of three print Fizz instead of the number and for the multiples of five print Buzz. For numbers which are multiples of both three and five print FizzBuzz."
   ]
  },
  {
   "cell_type": "code",
   "execution_count": null,
   "metadata": {},
   "outputs": [],
   "source": [
    "def fizzbuzz(n):\n",
    "    for i in range(n):\n",
    "        print(i, end=' ')\n",
    "        if not i%3:\n",
    "            print('Fizz', end='')\n",
    "        if not i%5:\n",
    "            print('Buzz', end='')\n",
    "        print('')\n",
    "    \n",
    "fizzbuzz(38)"
   ]
  },
  {
   "cell_type": "markdown",
   "metadata": {},
   "source": [
    "Write a function that counts the number of times a word appears in a text, given the text as a string and the desired words."
   ]
  },
  {
   "cell_type": "code",
   "execution_count": null,
   "metadata": {},
   "outputs": [],
   "source": [
    "def wordcounter(text, desired_word):\n",
    "    split_text = text.split()\n",
    "    found_word = [w==desired_word for w in split_text]\n",
    "    return sum(found_word)\n",
    "\n",
    "wordcounter(\" U.S. beats Spain with pair of Rapinoe penalties Megan Rapinoe, right, celebrates with teammates after scoring a goal for the U.S. against Spain. A pair of Megan Rapinoe penalty kicks handed the United States a 2-1 win against a tough Spain side on Monday, booking a spot in the quarterfinals of the Womens World Cup. Julie Ertz returned to the U.S. starting lineup against Spain after missing the last group-stage game with a hip contusion, and manager Jill Ellis went with Sam Mewis in place of Lindsey Horan. The U.S. and Spain traded goals inside of the first 10 minutes, with Rapinoe converting an early penalty before Jennifer Hermoso capitalized on sloppy play out of the back from the Americans and curled a shot past Alyssa Naeher. After conceding the early goal, the U.S. was by far the better side for most of the remainder of the first half, pinning Spain down and creating quality chances but failing to find the back of the net as the teams went to the break tied 1-1. You can talk tactics but heart, grit and resolve -- thats a big part of World Cup soccer. No game is ever easy in this tournament, said Ellis after the match. We know that, weve learned that. So part of it is the mental piece and I thought they were great tonight.\", \"goal\")"
   ]
  },
  {
   "cell_type": "markdown",
   "metadata": {},
   "source": [
    "Write a function that prints the first n prime numbers."
   ]
  },
  {
   "cell_type": "code",
   "execution_count": 15,
   "metadata": {},
   "outputs": [
    {
     "name": "stdout",
     "output_type": "stream",
     "text": [
      "2 3 5 7 11 13 17 19 23 29 31 37 41 "
     ]
    }
   ],
   "source": [
    "import math\n",
    "def check_if_prime(x):\n",
    "    assert x >= 0, \"x needs to be nonnegative.\"\n",
    "    if x == 2:\n",
    "        return True\n",
    "    for i in range(2,1+math.ceil(math.sqrt(x))):\n",
    "        if not x%i:\n",
    "            return False\n",
    "    return True\n",
    "\n",
    "def get_first_primes(n):\n",
    "    count = 0\n",
    "    x     = 1\n",
    "    while count < n:\n",
    "        x += 1\n",
    "        if check_if_prime(x):\n",
    "            print(x, end=' ')\n",
    "            count += 1\n",
    "        \n",
    "get_first_primes(13)"
   ]
  },
  {
   "cell_type": "markdown",
   "metadata": {},
   "source": [
    "Approximate the area under the sine function from $[0, \\pi]$."
   ]
  },
  {
   "cell_type": "code",
   "execution_count": 23,
   "metadata": {},
   "outputs": [
    {
     "name": "stdout",
     "output_type": "stream",
     "text": [
      "1.9999999998354976\n"
     ]
    }
   ],
   "source": [
    "import math\n",
    "\n",
    "# calculus rectangles-under-a-curve approximation\n",
    "n = 100000\n",
    "h = 1.0/n\n",
    "sigma = 0.0\n",
    "for i in range(n):\n",
    "    sigma += (math.pi*h)*(math.sin(math.pi*h*i))\n",
    "\n",
    "print(sigma)"
   ]
  },
  {
   "cell_type": "markdown",
   "metadata": {},
   "source": [
    "Given a polynomial represented as a list of coefficients (how can we do this?), and a given x, evaluate the function at that point."
   ]
  },
  {
   "cell_type": "code",
   "execution_count": 19,
   "metadata": {},
   "outputs": [
    {
     "name": "stdout",
     "output_type": "stream",
     "text": [
      "5.0\n",
      "-9.3\n"
     ]
    }
   ],
   "source": [
    "def eval_polynomial(a, x):\n",
    "    terms = [ai * x**i for i,ai in enumerate(a)]\n",
    "    return sum(terms)\n",
    "\n",
    "print(eval_polynomial([1,0,1], 2.0))\n",
    "print(eval_polynomial([0,3,4,5,-2,3.3], -1.0))"
   ]
  },
  {
   "cell_type": "markdown",
   "metadata": {},
   "source": [
    "Write a function that uses the bisection method to find the x value that gives the root of a polynomial f(x) within a particular x interval provided a tolerance, when the polynomial represented as a list, a lower bound, and an upper bound for the x interval are input. Complete problem assuming one root."
   ]
  },
  {
   "cell_type": "code",
   "execution_count": null,
   "metadata": {},
   "outputs": [],
   "source": []
  },
  {
   "cell_type": "markdown",
   "metadata": {},
   "source": [
    "Take a circle of radius 1. Within the circle, inscribe an equilateral triangle. Then, within the triangle, inscribe new smaller circle. Within the smaller circle inscribe a regular square, and within the square, inscribe yet another circle. Within the smaller circle inscribe a regular pentagon, and within the pentagon, inscribe yet another circle. Iterate this process of inscribing regular polygon and a new smaller circle, increasing the number of sides of the polygon by 1 each time.\n",
    "     What is the radius of the limiting circle?"
   ]
  },
  {
   "cell_type": "code",
   "execution_count": null,
   "metadata": {},
   "outputs": [],
   "source": []
  }
 ],
 "metadata": {
  "kernelspec": {
   "display_name": "Python 3",
   "language": "python",
   "name": "python3"
  },
  "language_info": {
   "codemirror_mode": {
    "name": "ipython",
    "version": 3
   },
   "file_extension": ".py",
   "mimetype": "text/x-python",
   "name": "python",
   "nbconvert_exporter": "python",
   "pygments_lexer": "ipython3",
   "version": "3.7.3"
  }
 },
 "nbformat": 4,
 "nbformat_minor": 2
}
