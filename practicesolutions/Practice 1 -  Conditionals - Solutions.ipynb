{
 "cells": [
  {
   "cell_type": "markdown",
   "metadata": {},
   "source": [
    "Given 3 side lengths, determine whether it is possible to construct a triangle from those sides."
   ]
  },
  {
   "cell_type": "code",
<<<<<<< HEAD
   "execution_count": 1,
   "metadata": {},
   "outputs": [
    {
     "name": "stdout",
     "output_type": "stream",
     "text": [
      " These side lengths cannot make a triangle.\n"
     ]
    }
   ],
   "source": [
    "side1 = 0.5\n",
    "side2 = 0.3\n",
    "side3 = 0.1\n",
    "\n",
    "if not( side1 > 0 and side2 > 0 and side3 > 0):\n",
    "    print(' These side lengths are not valid.')\n",
    "elif side1 > (side2 + side3):\n",
    "    print(' These side lengths cannot make a triangle.')\n",
    "else:\n",
    "    print(' These side lengths make a valid triangle.')"
   ]
=======
   "execution_count": null,
   "metadata": {},
   "outputs": [],
   "source": []
>>>>>>> c426bdfc626d17f1586acf7de3abbc2215c93fa0
  },
  {
   "cell_type": "markdown",
   "metadata": {},
   "source": [
<<<<<<< HEAD
    "Given the dimensions and weight of a bag, determine whether it can be brought on a Southwest flight as a checked bag."
=======
    "Given the dimensions and weight of a bag, determine whether it can be brought on a Southwest flight as a carry-on."
>>>>>>> c426bdfc626d17f1586acf7de3abbc2215c93fa0
   ]
  },
  {
   "cell_type": "code",
<<<<<<< HEAD
   "execution_count": 2,
   "metadata": {},
   "outputs": [
    {
     "name": "stdout",
     "output_type": "stream",
     "text": [
      " You can bring this bag on your flight.\n"
     ]
    }
   ],
   "source": [
    "weight = 34.0\n",
    "\n",
    "width  = 10\n",
    "height = 23.0\n",
    "length = 14.0\n",
    "\n",
    "if not( weight >= 0 and width > 0 and height > 0 and length > 0):\n",
    "    print(' These dimensions are not valid.')\n",
    "elif weight > 50.0 :\n",
    "    print(' This bag is too heavy.')\n",
    "elif width + height + length > 62.0 :\n",
    "    print(' This bag is too big.')\n",
    "else:\n",
    "    print(' You can bring this bag on your flight.')"
   ]
=======
   "execution_count": null,
   "metadata": {},
   "outputs": [],
   "source": []
>>>>>>> c426bdfc626d17f1586acf7de3abbc2215c93fa0
  },
  {
   "cell_type": "markdown",
   "metadata": {},
   "source": [
    "Write a function that determines whether two given numbers are within a given delta of one another."
   ]
  },
  {
   "cell_type": "code",
<<<<<<< HEAD
   "execution_count": 4,
   "metadata": {},
   "outputs": [
    {
     "name": "stdout",
     "output_type": "stream",
     "text": [
      "These numbers are more than delta apart.\n",
      "These numbers are more than delta apart.\n",
      "These numbers are within delta of each other.\n"
     ]
    }
   ],
   "source": [
    "def check_within_delta(x,y,delta):\n",
    "    if abs(x-y) <= delta:\n",
    "        return 'These numbers are within delta of each other.'\n",
    "    else:\n",
    "        return 'These numbers are more than delta apart.'\n",
    "    \n",
    "        \n",
    "print(check_within_delta(1.0,1.5,0.2))\n",
    "print(check_within_delta(-1.0,0.0,0.001))\n",
    "print(check_within_delta(-1.0,0.0,3.0))"
   ]
=======
   "execution_count": null,
   "metadata": {},
   "outputs": [],
   "source": []
>>>>>>> c426bdfc626d17f1586acf7de3abbc2215c93fa0
  },
  {
   "cell_type": "markdown",
   "metadata": {},
   "source": [
<<<<<<< HEAD
    "Write a function that returns the string representation of the season(spring, summer, fall, winter) given the date (i.e. month, day, and year). Make sure to check that this date is valid."
=======
    "Write a function that returns the string representation of the season(spring, summer, fall, winter) given the month and day."
>>>>>>> c426bdfc626d17f1586acf7de3abbc2215c93fa0
   ]
  },
  {
   "cell_type": "code",
<<<<<<< HEAD
   "execution_count": 7,
   "metadata": {},
   "outputs": [
    {
     "name": "stdout",
     "output_type": "stream",
     "text": [
      "winter\n",
      "spring\n",
      "This date is not valid.\n",
      "This date is not valid.\n",
      "This date is not valid.\n",
      "winter\n",
      "This date is not valid.\n",
      "This date is not valid.\n",
      "This date is not valid.\n"
     ]
    }
   ],
   "source": [
    "def get_season(month, day, year):\n",
    "    \n",
    "    # check date for validity.\n",
    "\n",
    "    date_valid = (type(month) is int) and (type(day) is int) and (type(year) is int)\n",
    "    if month <= 0 or month > 12 or  day <= 0:\n",
    "        date_valid = False\n",
    "    elif month in [1,3,5,7,8,10,12] and day > 31:\n",
    "        date_valid = False\n",
    "    elif month in [4,6,9,11] and day > 30:\n",
    "        date_valid = False\n",
    "    else: # month == 2\n",
    "        if ( (year // 4 and not year // 100) or (year //4 and year //100 and year // 1000) ) and day > 29:\n",
    "            date_valid = False\n",
    "        elif day > 28:\n",
    "            date_valid = False\n",
    " \n",
    "    season = ''\n",
    "    if date_valid:\n",
    "        if month == 1 or month == 2 or (month==12 and day > 20) or (month==3 and day <= 19):\n",
    "            season = \"winter\"\n",
    "        elif (month == 3 and day > 19) or month == 4 or month == 5 or (month == 6 and day <= 21):\n",
    "            season = \"spring\"\n",
    "        elif (month == 6 and day > 21) or month == 7 or month == 8 or (month == 9 and day <= 21):\n",
    "            season = \"summer\"\n",
    "        else:\n",
    "            season = \"fall\"\n",
    "        return season\n",
    "    else:\n",
    "        return \"This date is not valid.\"\n",
    "\n",
    "\n",
    "print( get_season(3,12,2010))\n",
    "print( get_season(6,12,2000))\n",
    "print( get_season(2,29,2012))\n",
    "print( get_season(2,29,2011))\n",
    "print( get_season(3.5,30,1996))\n",
    "print( get_season(2,28,2100))\n",
    "print( get_season(2,29,2100))\n",
    "print( get_season(9,31,2010))\n",
    "print( get_season(3,-12,2010))"
   ]
=======
   "execution_count": null,
   "metadata": {},
   "outputs": [],
   "source": []
>>>>>>> c426bdfc626d17f1586acf7de3abbc2215c93fa0
  },
  {
   "cell_type": "markdown",
   "metadata": {},
   "source": [
<<<<<<< HEAD
    "Given the angle and velocity of a baseball leaving home plate, determine whether it was a home run assuming the game occurs in a fenced in area (there is a 6 foot barrier around the field that the ball has to clear, and the wall is 300 feet from home plate). Do not worry about lift, drag, spin, or terminal velocity (although if you care about these variables, see https://www.cpp.edu/~pbsiegel/javascript/statcast.pdf )"
   ]
  },
  {
   "cell_type": "code",
   "execution_count": 45,
   "metadata": {},
   "outputs": [
    {
     "name": "stdout",
     "output_type": "stream",
     "text": [
      "Home Run!\n"
     ]
    }
   ],
   "source": [
    "import math\n",
    "\n",
    "angle = 30.0 # degrees\n",
    "velocity = 40.0 # feet per second\n",
    "\n",
    "if velocity < 0:\n",
    "    print('not a valid velocity.')\n",
    "elif velocity == 0:\n",
    "    print('... not a home run.')\n",
    "else:\n",
    "    theta = angle * math.pi / 180.0\n",
    "    t_300 = 300 / (math.cos(theta)*velocity) # time it takes for the ball to travel 300 ft\n",
    "    y_t   = -0.5*(9.8 / 3.28) * t_300 **2 + math.sin(theta)*velocity * t_300 # height of ball when it has travelled 300 ft\n",
    "\n",
    "    if y_t > 6.0:\n",
    "        print('Home Run!')\n",
    "    else:\n",
    "        print('... not a home run.')\n"
=======
    "Given the angle and velocity of a baseball leaving home plate, determine whether it was a home run assuming the game occurs in a fenced in area (there is a 6 foot barrier around the field that the ball has to clear, and the wall is 300 feet from home plate)."
>>>>>>> c426bdfc626d17f1586acf7de3abbc2215c93fa0
   ]
  },
  {
   "cell_type": "code",
   "execution_count": null,
   "metadata": {},
   "outputs": [],
   "source": []
  }
 ],
 "metadata": {
  "kernelspec": {
   "display_name": "Python 3",
   "language": "python",
   "name": "python3"
  },
  "language_info": {
   "codemirror_mode": {
    "name": "ipython",
    "version": 3
   },
   "file_extension": ".py",
   "mimetype": "text/x-python",
   "name": "python",
   "nbconvert_exporter": "python",
   "pygments_lexer": "ipython3",
   "version": "3.7.3"
  }
 },
 "nbformat": 4,
 "nbformat_minor": 2
}
